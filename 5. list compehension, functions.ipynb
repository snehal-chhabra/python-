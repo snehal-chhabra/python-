{
 "cells": [
  {
   "cell_type": "markdown",
   "id": "1d5841ad",
   "metadata": {},
   "source": [
    "### Methods on SET"
   ]
  },
  {
   "cell_type": "code",
   "execution_count": 7,
   "id": "4d5fbb19",
   "metadata": {},
   "outputs": [],
   "source": [
    "s={1,3,5,7,9}\n",
    "#set as a whole is mutable but elements individually are not."
   ]
  },
  {
   "cell_type": "code",
   "execution_count": 8,
   "id": "d28874e4",
   "metadata": {},
   "outputs": [],
   "source": [
    "s.add(11)"
   ]
  },
  {
   "cell_type": "code",
   "execution_count": 9,
   "id": "ca00d493",
   "metadata": {},
   "outputs": [
    {
     "data": {
      "text/plain": [
       "{1, 3, 5, 7, 9, 11}"
      ]
     },
     "execution_count": 9,
     "metadata": {},
     "output_type": "execute_result"
    }
   ],
   "source": [
    "s"
   ]
  },
  {
   "cell_type": "code",
   "execution_count": 10,
   "id": "67c0df40",
   "metadata": {},
   "outputs": [],
   "source": [
    "s.add(2)"
   ]
  },
  {
   "cell_type": "code",
   "execution_count": 11,
   "id": "b89e6b01",
   "metadata": {},
   "outputs": [
    {
     "data": {
      "text/plain": [
       "{1, 2, 3, 5, 7, 9, 11}"
      ]
     },
     "execution_count": 11,
     "metadata": {},
     "output_type": "execute_result"
    }
   ],
   "source": [
    "s"
   ]
  },
  {
   "cell_type": "code",
   "execution_count": 12,
   "id": "73179e39",
   "metadata": {},
   "outputs": [],
   "source": [
    "s.add('hi')"
   ]
  },
  {
   "cell_type": "code",
   "execution_count": 13,
   "id": "039331a7",
   "metadata": {},
   "outputs": [
    {
     "data": {
      "text/plain": [
       "{1, 11, 2, 3, 5, 7, 9, 'hi'}"
      ]
     },
     "execution_count": 13,
     "metadata": {},
     "output_type": "execute_result"
    }
   ],
   "source": [
    "s"
   ]
  },
  {
   "cell_type": "code",
   "execution_count": 14,
   "id": "2caa5f41",
   "metadata": {},
   "outputs": [],
   "source": [
    "#in case of integers, when you add an element to the set, set will add it \n",
    "#in ascending order(since that is python's defalt)\n",
    "#note the difference when set was transformed from all integers to now \n",
    "#integers and a string. \n",
    "#Now set is ordered on the basis of ASCII values."
   ]
  },
  {
   "cell_type": "code",
   "execution_count": 15,
   "id": "f3c05cc2",
   "metadata": {},
   "outputs": [],
   "source": [
    "s.remove(5)    #s.discard(element) works same but diff o/p.\n",
    "#only 1 element can be removed from set at a time."
   ]
  },
  {
   "cell_type": "code",
   "execution_count": 16,
   "id": "dd066b14",
   "metadata": {},
   "outputs": [
    {
     "data": {
      "text/plain": [
       "{1, 11, 2, 3, 7, 9, 'hi'}"
      ]
     },
     "execution_count": 16,
     "metadata": {},
     "output_type": "execute_result"
    }
   ],
   "source": [
    "s"
   ]
  },
  {
   "cell_type": "code",
   "execution_count": 17,
   "id": "b5d98049",
   "metadata": {},
   "outputs": [
    {
     "ename": "KeyError",
     "evalue": "10",
     "output_type": "error",
     "traceback": [
      "\u001b[1;31m---------------------------------------------------------------------------\u001b[0m",
      "\u001b[1;31mKeyError\u001b[0m                                  Traceback (most recent call last)",
      "Cell \u001b[1;32mIn[17], line 1\u001b[0m\n\u001b[1;32m----> 1\u001b[0m s\u001b[38;5;241m.\u001b[39mremove(\u001b[38;5;241m10\u001b[39m)\n",
      "\u001b[1;31mKeyError\u001b[0m: 10"
     ]
    }
   ],
   "source": [
    "s.remove(10)   #throws error."
   ]
  },
  {
   "cell_type": "code",
   "execution_count": null,
   "id": "17edacb6",
   "metadata": {},
   "outputs": [],
   "source": [
    "print(s.remove(10))     #error"
   ]
  },
  {
   "cell_type": "code",
   "execution_count": null,
   "id": "ea43ac45",
   "metadata": {},
   "outputs": [],
   "source": [
    "s.discard(10)  #no error"
   ]
  },
  {
   "cell_type": "code",
   "execution_count": null,
   "id": "0d0ce10e",
   "metadata": {},
   "outputs": [],
   "source": [
    "print(s.discard(10))  #output is None. no error"
   ]
  },
  {
   "cell_type": "code",
   "execution_count": null,
   "id": "a3603244",
   "metadata": {},
   "outputs": [],
   "source": [
    "s.pop()  \n",
    "#deletes some arbitrary element, could be the first, last or random."
   ]
  },
  {
   "cell_type": "code",
   "execution_count": null,
   "id": "acf95440",
   "metadata": {},
   "outputs": [],
   "source": [
    "s"
   ]
  },
  {
   "cell_type": "code",
   "execution_count": null,
   "id": "d0bb64f0",
   "metadata": {},
   "outputs": [],
   "source": [
    "#pop throws a KeyError if set is empty. for that to not happen:\n",
    "if len(s) !=0:\n",
    "    s.pop()"
   ]
  },
  {
   "cell_type": "code",
   "execution_count": null,
   "id": "f508cb9d",
   "metadata": {},
   "outputs": [],
   "source": [
    "s1=s.copy()\n",
    "s1"
   ]
  },
  {
   "cell_type": "code",
   "execution_count": null,
   "id": "e1827093",
   "metadata": {},
   "outputs": [],
   "source": [
    "s1.clear()"
   ]
  },
  {
   "cell_type": "code",
   "execution_count": null,
   "id": "43ebe9b0",
   "metadata": {},
   "outputs": [],
   "source": [
    "s1"
   ]
  },
  {
   "cell_type": "code",
   "execution_count": null,
   "id": "973c8b8d",
   "metadata": {},
   "outputs": [],
   "source": [
    "s"
   ]
  },
  {
   "cell_type": "code",
   "execution_count": null,
   "id": "47dc7374",
   "metadata": {},
   "outputs": [],
   "source": [
    "#to create an empty set:\n",
    "s2=set()\n",
    "#s2={}   this creates a dictionary."
   ]
  },
  {
   "cell_type": "code",
   "execution_count": null,
   "id": "646c3dcf",
   "metadata": {},
   "outputs": [],
   "source": [
    "st=''=str()\n",
    "l1=[]=list()\n",
    "t=()=tuple()\n",
    "dic={}=dict()\n",
    "se=set()"
   ]
  },
  {
   "cell_type": "code",
   "execution_count": null,
   "id": "a8e9ecb3",
   "metadata": {},
   "outputs": [],
   "source": [
    "r={1,2,3,4,15}\n",
    "r"
   ]
  },
  {
   "cell_type": "markdown",
   "id": "3513d0f7",
   "metadata": {},
   "source": [
    "### Operations on Sets"
   ]
  },
  {
   "cell_type": "code",
   "execution_count": null,
   "id": "f0e93ecb",
   "metadata": {},
   "outputs": [],
   "source": [
    "#Concatenation, Repetition, Indexing and Slicing don't happen in sets."
   ]
  },
  {
   "cell_type": "code",
   "execution_count": 23,
   "id": "816fa805",
   "metadata": {},
   "outputs": [
    {
     "data": {
      "text/plain": [
       "{1, 11, 15, 2, 3, 4, 7, 9, 'hi'}"
      ]
     },
     "execution_count": 23,
     "metadata": {},
     "output_type": "execute_result"
    }
   ],
   "source": [
    "sur= s|r  #union operator | is same as bitwise OR. (operation overloading)\n",
    "sur"
   ]
  },
  {
   "cell_type": "code",
   "execution_count": 22,
   "id": "bf98947d",
   "metadata": {},
   "outputs": [
    {
     "data": {
      "text/plain": [
       "{1, 2, 3}"
      ]
     },
     "execution_count": 22,
     "metadata": {},
     "output_type": "execute_result"
    }
   ],
   "source": [
    "sir= s & r   #intersection operator & is same as bitwise AND\n",
    "sir"
   ]
  },
  {
   "cell_type": "code",
   "execution_count": 19,
   "id": "d2bc41d6",
   "metadata": {},
   "outputs": [
    {
     "data": {
      "text/plain": [
       "{11, 7, 9, 'hi'}"
      ]
     },
     "execution_count": 19,
     "metadata": {},
     "output_type": "execute_result"
    }
   ],
   "source": [
    "sr= s - r    #difference: set s minus elements of set r common with set s.\n",
    "sr\n",
    "#intersection: s-r = s- (s&r)"
   ]
  },
  {
   "cell_type": "code",
   "execution_count": 18,
   "id": "5124a211",
   "metadata": {},
   "outputs": [
    {
     "data": {
      "text/plain": [
       "{4, 15}"
      ]
     },
     "execution_count": 18,
     "metadata": {},
     "output_type": "execute_result"
    }
   ],
   "source": [
    "rs= r - s\n",
    "rs"
   ]
  },
  {
   "cell_type": "code",
   "execution_count": 20,
   "id": "d89e1d3f",
   "metadata": {},
   "outputs": [
    {
     "data": {
      "text/plain": [
       "{1, 11, 15, 2, 3, 4, 7, 9, 'hi'}"
      ]
     },
     "execution_count": 20,
     "metadata": {},
     "output_type": "execute_result"
    }
   ],
   "source": [
    "s.union(r)   #same as s|r"
   ]
  },
  {
   "cell_type": "code",
   "execution_count": 21,
   "id": "53b82103",
   "metadata": {},
   "outputs": [
    {
     "data": {
      "text/plain": [
       "{1, 2, 3}"
      ]
     },
     "execution_count": 21,
     "metadata": {},
     "output_type": "execute_result"
    }
   ],
   "source": [
    "s.intersection(r)   #same as s&r"
   ]
  },
  {
   "cell_type": "code",
   "execution_count": 24,
   "id": "69465d7e",
   "metadata": {},
   "outputs": [
    {
     "data": {
      "text/plain": [
       "{11, 7, 9, 'hi'}"
      ]
     },
     "execution_count": 24,
     "metadata": {},
     "output_type": "execute_result"
    }
   ],
   "source": [
    "s.difference(r)  # same as s-r"
   ]
  },
  {
   "cell_type": "code",
   "execution_count": 25,
   "id": "03632af6",
   "metadata": {},
   "outputs": [
    {
     "data": {
      "text/plain": [
       "{4, 15}"
      ]
     },
     "execution_count": 25,
     "metadata": {},
     "output_type": "execute_result"
    }
   ],
   "source": [
    "r.difference(s)"
   ]
  },
  {
   "cell_type": "markdown",
   "id": "33727da8",
   "metadata": {},
   "source": [
    "## List Comprehension in Python"
   ]
  },
  {
   "cell_type": "code",
   "execution_count": null,
   "id": "059e3e70",
   "metadata": {},
   "outputs": [],
   "source": [
    "#List comprehension offers a shorter syntax when you want to create a new \n",
    "#list based on the values of an existing list/sequence."
   ]
  },
  {
   "cell_type": "code",
   "execution_count": 28,
   "id": "08275f41",
   "metadata": {},
   "outputs": [
    {
     "data": {
      "text/plain": [
       "{1, 2, 3, 4, 15}"
      ]
     },
     "execution_count": 28,
     "metadata": {},
     "output_type": "execute_result"
    }
   ],
   "source": [
    "r"
   ]
  },
  {
   "cell_type": "code",
   "execution_count": 31,
   "id": "bec3bd66",
   "metadata": {},
   "outputs": [
    {
     "data": {
      "text/plain": [
       "[1, 4, 9, 16, 225]"
      ]
     },
     "execution_count": 31,
     "metadata": {},
     "output_type": "execute_result"
    }
   ],
   "source": [
    "l=[]\n",
    "for x in r:\n",
    "    l.append(x**2)\n",
    "l   "
   ]
  },
  {
   "cell_type": "code",
   "execution_count": 30,
   "id": "3574e631",
   "metadata": {},
   "outputs": [
    {
     "data": {
      "text/plain": [
       "[1, 4, 9, 16, 225]"
      ]
     },
     "execution_count": 30,
     "metadata": {},
     "output_type": "execute_result"
    }
   ],
   "source": [
    "#using list comprehension\n",
    "l=[x**2 for x in r]\n",
    "l"
   ]
  },
  {
   "cell_type": "code",
   "execution_count": 34,
   "id": "977adcb1",
   "metadata": {},
   "outputs": [],
   "source": [
    "sur.remove('hi')"
   ]
  },
  {
   "cell_type": "code",
   "execution_count": 35,
   "id": "e6767e79",
   "metadata": {},
   "outputs": [
    {
     "data": {
      "text/plain": [
       "[1, 4, 9, 16, 49, 81, 121, 225]"
      ]
     },
     "execution_count": 35,
     "metadata": {},
     "output_type": "execute_result"
    }
   ],
   "source": [
    "l1=[x**2 for x in sur]\n",
    "l1"
   ]
  },
  {
   "cell_type": "code",
   "execution_count": 37,
   "id": "ef89c66b",
   "metadata": {},
   "outputs": [
    {
     "data": {
      "text/plain": [
       "{1, 2, 3, 4, 7, 9, 11, 15}"
      ]
     },
     "execution_count": 37,
     "metadata": {},
     "output_type": "execute_result"
    }
   ],
   "source": [
    "sur"
   ]
  },
  {
   "cell_type": "code",
   "execution_count": 38,
   "id": "ee994c6c",
   "metadata": {},
   "outputs": [
    {
     "data": {
      "text/plain": [
       "[1, 9, 49, 81, 121, 225]"
      ]
     },
     "execution_count": 38,
     "metadata": {},
     "output_type": "execute_result"
    }
   ],
   "source": [
    "l2=[]\n",
    "for x in sur:\n",
    "    if x % 2 != 0:\n",
    "        l2.append(x**2)\n",
    "l2"
   ]
  },
  {
   "cell_type": "code",
   "execution_count": 43,
   "id": "80343b56",
   "metadata": {},
   "outputs": [
    {
     "data": {
      "text/plain": [
       "[1, 9, 49, 81, 121, 225]"
      ]
     },
     "execution_count": 43,
     "metadata": {},
     "output_type": "execute_result"
    }
   ],
   "source": [
    "#IMPORTANT: without else, if canot come in between, has to be in the end.\n",
    "l2=[x**2 for x in sur if x % 2 != 0]\n",
    "l2"
   ]
  },
  {
   "cell_type": "code",
   "execution_count": 45,
   "id": "8b30e6a6",
   "metadata": {},
   "outputs": [
    {
     "data": {
      "text/plain": [
       "[1, 2, 9, 4, 49, 81, 121, 225]"
      ]
     },
     "execution_count": 45,
     "metadata": {},
     "output_type": "execute_result"
    }
   ],
   "source": [
    "#IMPORTANT: if and else in between and for in the end.\n",
    "l3=[x**2 if x % 2 != 0 else x for x in sur ]\n",
    "l3"
   ]
  },
  {
   "cell_type": "markdown",
   "id": "a50b6ad1",
   "metadata": {},
   "source": [
    "### Nested List Comprehension "
   ]
  },
  {
   "cell_type": "code",
   "execution_count": 47,
   "id": "1713d94b",
   "metadata": {},
   "outputs": [
    {
     "data": {
      "text/plain": [
       "[[0, 1, 2, 3, 4], [0, 1, 2, 3, 4], [0, 1, 2, 3, 4]]"
      ]
     },
     "execution_count": 47,
     "metadata": {},
     "output_type": "execute_result"
    }
   ],
   "source": [
    "m=[]\n",
    "for x in range(3):\n",
    "    m.append([])\n",
    "    for y in range(5):\n",
    "        m[x].append(y)\n",
    "m"
   ]
  },
  {
   "cell_type": "code",
   "execution_count": 48,
   "id": "5dc0ea4e",
   "metadata": {},
   "outputs": [
    {
     "data": {
      "text/plain": [
       "[[0, 1, 2, 3, 4], [1, 2, 3, 4, 5], [2, 3, 4, 5, 6]]"
      ]
     },
     "execution_count": 48,
     "metadata": {},
     "output_type": "execute_result"
    }
   ],
   "source": [
    "m=[]\n",
    "for x in range(3):\n",
    "    m.append([])\n",
    "    for y in range(5):\n",
    "        m[x].append(x+y)\n",
    "m"
   ]
  },
  {
   "cell_type": "code",
   "execution_count": 50,
   "id": "8867113c",
   "metadata": {},
   "outputs": [
    {
     "data": {
      "text/plain": [
       "[[0, 1, 2, 3, 4], [2, 3, 4, 5, 6], [4, 5, 6, 7, 8]]"
      ]
     },
     "execution_count": 50,
     "metadata": {},
     "output_type": "execute_result"
    }
   ],
   "source": [
    "m=[]\n",
    "for x in range(3):\n",
    "    m.append([])\n",
    "    for y in range(5):\n",
    "        m[x].append(2*x+y)\n",
    "m"
   ]
  },
  {
   "cell_type": "code",
   "execution_count": 53,
   "id": "16f327b3",
   "metadata": {},
   "outputs": [
    {
     "data": {
      "text/plain": [
       "[[0, 1, 2, 3, 4], [2, 3, 4, 5, 6], [4, 5, 6, 7, 8]]"
      ]
     },
     "execution_count": 53,
     "metadata": {},
     "output_type": "execute_result"
    }
   ],
   "source": [
    "m=[[2*x+y for y in range(5)] for x in range(3)]\n",
    "m"
   ]
  },
  {
   "cell_type": "code",
   "execution_count": null,
   "id": "e2830d67",
   "metadata": {},
   "outputs": [],
   "source": [
    "#Garbage collection in python: automatic freeing of memory \n",
    "#space to reclaim blocks of memory.\n",
    "#can be done manually by using del function."
   ]
  },
  {
   "cell_type": "code",
   "execution_count": null,
   "id": "58fb719d",
   "metadata": {},
   "outputs": [],
   "source": [
    "#Time Space Tradeoff - DSA (Data Structures and Algorithms)"
   ]
  },
  {
   "cell_type": "markdown",
   "id": "a747981b",
   "metadata": {},
   "source": [
    "## Functions"
   ]
  },
  {
   "cell_type": "code",
   "execution_count": null,
   "id": "987fd2b7",
   "metadata": {},
   "outputs": [],
   "source": [
    "It is a block/set of instructions that are organised and resuable in a code. \n",
    "Types:\n",
    "    -Inbuilt\n",
    "    -User defined\n",
    "        ->def\n",
    "        ->lambda"
   ]
  },
  {
   "cell_type": "code",
   "execution_count": 55,
   "id": "1d2c229e",
   "metadata": {},
   "outputs": [
    {
     "name": "stdout",
     "output_type": "stream",
     "text": [
      "Enter marks: 54\n",
      "Pass\n"
     ]
    }
   ],
   "source": [
    "marks= int(input('Enter marks: '))\n",
    "if marks> 40:\n",
    "    print('Pass')\n",
    "else:\n",
    "    print('Fail')"
   ]
  },
  {
   "cell_type": "code",
   "execution_count": null,
   "id": "724a17ce",
   "metadata": {},
   "outputs": [],
   "source": [
    "for i in range(n):\n",
    "    marks= int(input('Enter marks: '))\n",
    "if marks> 40:\n",
    "    print('Pass')\n",
    "else:\n",
    "    print('Fail')\n",
    "\n",
    "#With help of a loop, this block of code runs continuously for n times.\n",
    "#but if we need to do this task n times but not at once, in irregular \n",
    "#periods then we use a function."
   ]
  },
  {
   "cell_type": "code",
   "execution_count": 59,
   "id": "1c033b5a",
   "metadata": {},
   "outputs": [
    {
     "name": "stdout",
     "output_type": "stream",
     "text": [
      "Hello\n",
      "Enter marks: 56\n",
      "Pass\n",
      "Done\n"
     ]
    }
   ],
   "source": [
    "def PassFail():   #function definition\n",
    "    marks= int(input('Enter marks: '))\n",
    "    if marks> 40:\n",
    "        print('Pass')\n",
    "    else:\n",
    "        print('Fail')\n",
    "    \n",
    "print('Hello')\n",
    "PassFail()\n",
    "print('Done')"
   ]
  },
  {
   "cell_type": "code",
   "execution_count": null,
   "id": "346c6e0b",
   "metadata": {},
   "outputs": [],
   "source": [
    "#functions make code MODULAR: sets of modules which have particular \n",
    "#use or instructions."
   ]
  },
  {
   "cell_type": "code",
   "execution_count": null,
   "id": "4a5eff5a",
   "metadata": {},
   "outputs": [],
   "source": [
    "#Namespace: A namespace is a declarative region that provides a scope to\n",
    "#identifiers(namesof functions, variables or other user-defined data types).\n",
    "#A namespace is a memory space where variables andother identifiers \n",
    "#are stored.\n",
    "-Global\n",
    "-Local"
   ]
  },
  {
   "cell_type": "code",
   "execution_count": 1,
   "id": "8ce833f0",
   "metadata": {},
   "outputs": [
    {
     "name": "stdout",
     "output_type": "stream",
     "text": [
      "Hello\n",
      "Enter marks: 77\n",
      "Pass\n"
     ]
    },
    {
     "ename": "NameError",
     "evalue": "name 'marks' is not defined",
     "output_type": "error",
     "traceback": [
      "\u001b[1;31m---------------------------------------------------------------------------\u001b[0m",
      "\u001b[1;31mNameError\u001b[0m                                 Traceback (most recent call last)",
      "Cell \u001b[1;32mIn[1], line 11\u001b[0m\n\u001b[0;32m      9\u001b[0m \u001b[38;5;28mprint\u001b[39m(\u001b[38;5;124m'\u001b[39m\u001b[38;5;124mHello\u001b[39m\u001b[38;5;124m'\u001b[39m)\n\u001b[0;32m     10\u001b[0m PassFail()\n\u001b[1;32m---> 11\u001b[0m \u001b[38;5;28mprint\u001b[39m(marks)\n",
      "\u001b[1;31mNameError\u001b[0m: name 'marks' is not defined"
     ]
    }
   ],
   "source": [
    "#scope:\n",
    "#Scope of a variable/identifier is its lifetime in the program. This means\n",
    "#that the scope of a variable is the block of code in the entire program \n",
    "#where the variable is declared, used, and can be modified.\n",
    "#It is the limit of identifiers, area of influence or accessibility\n",
    "def PassFail():   #function definition\n",
    "    marks= int(input('Enter marks: '))\n",
    "    if marks> 40:\n",
    "        print('Pass')\n",
    "    else:\n",
    "        print('Fail')\n",
    "    \n",
    "print('Hello')\n",
    "PassFail()\n",
    "print(marks)   #throws error\n",
    "#variable marks is outside the scopee of the main/global field. It cannot\n",
    "#be accessed outside the function.\n",
    "#also after function is executed and flow of control moves back to te=he main\n",
    "#field, python flushes out all the memory allocated to it. this is garbage \n",
    "#collection. Hence youcannot call the local variables or identifiers outside\n",
    "#the local namespace.\n",
    "#global identifiers/namespace can be used in the local namespace as well.\n",
    "#They can be used anywheree in the code."
   ]
  },
  {
   "cell_type": "code",
   "execution_count": null,
   "id": "85f38ae0",
   "metadata": {},
   "outputs": [],
   "source": [
    "#return statement:\n",
    "-used to terminate a function\n",
    "-used to transfer/pass a value from the function scope to the calling scope"
   ]
  },
  {
   "cell_type": "code",
   "execution_count": 2,
   "id": "e6987a0c",
   "metadata": {},
   "outputs": [
    {
     "name": "stdout",
     "output_type": "stream",
     "text": [
      "sum: 15\n",
      "Average: 7.5\n"
     ]
    }
   ],
   "source": [
    "def add():\n",
    "    x=9\n",
    "    y=6\n",
    "    z=x+y\n",
    "    print('sum:', z)\n",
    "    return z\n",
    "def avg():\n",
    "    s=add()\n",
    "    avg=s/2\n",
    "    print('Average:',avg)\n",
    "avg()\n",
    "    "
   ]
  },
  {
   "cell_type": "code",
   "execution_count": 3,
   "id": "5041046d",
   "metadata": {},
   "outputs": [
    {
     "name": "stdout",
     "output_type": "stream",
     "text": [
      "sum: 15\n",
      "Hello\n"
     ]
    }
   ],
   "source": [
    "def add():\n",
    "    x=9\n",
    "    y=6\n",
    "    z=x+y\n",
    "    print('sum:', z)\n",
    "    print('Hello')\n",
    "add()"
   ]
  },
  {
   "cell_type": "code",
   "execution_count": 4,
   "id": "2e4a876b",
   "metadata": {},
   "outputs": [
    {
     "name": "stdout",
     "output_type": "stream",
     "text": [
      "sum: 15\n"
     ]
    }
   ],
   "source": [
    "def add():\n",
    "    x=9\n",
    "    y=6\n",
    "    z=x+y\n",
    "    print('sum:', z)\n",
    "    return   #similar to break, it terminates the function here even tho it returns nothing.\n",
    "    print('Hello')\n",
    "add()"
   ]
  },
  {
   "cell_type": "code",
   "execution_count": 5,
   "id": "0898e30b",
   "metadata": {},
   "outputs": [
    {
     "name": "stdout",
     "output_type": "stream",
     "text": [
      "sum: 15\n",
      "None\n"
     ]
    }
   ],
   "source": [
    "def add():\n",
    "    x=9\n",
    "    y=6\n",
    "    z=x+y\n",
    "    print('sum:', z)\n",
    "    return   #similar to break, it terminates the function here even tho it returns nothing.\n",
    "    print('Hello')\n",
    "print(add())   #since function returns nothing, output is None."
   ]
  },
  {
   "cell_type": "code",
   "execution_count": null,
   "id": "515db1a9",
   "metadata": {},
   "outputs": [],
   "source": [
    "def add():\n",
    "    x=9\n",
    "    y=6\n",
    "    z=x+y\n",
    "    print('sum:', z)\n",
    "    print('Hello')\n",
    "    #even wihout return, function will terminate here on its own.\n",
    "add()"
   ]
  },
  {
   "cell_type": "markdown",
   "id": "fa601b11",
   "metadata": {},
   "source": [
    "#### Function Arguments"
   ]
  },
  {
   "cell_type": "code",
   "execution_count": 6,
   "id": "d6862a42",
   "metadata": {},
   "outputs": [
    {
     "name": "stdout",
     "output_type": "stream",
     "text": [
      "6\n",
      "9\n",
      "sum: 15\n",
      "Average: 7.5\n"
     ]
    }
   ],
   "source": [
    "#A parameter is the variable listed inside the parenthesis in the function \n",
    "#definition. An argument is the value that is sent to the function definition\n",
    "#when it is called.\n",
    "#they are used to pass the data from calling scope to the function scope.\n",
    "def add(x,y):\n",
    "    z=x+y\n",
    "    print('sum:', z)\n",
    "    return z\n",
    "def avg():\n",
    "    s=add(int(input()),int(input()))\n",
    "    avg=s/2\n",
    "    print('Average:',avg)\n",
    "avg()\n",
    "\n",
    "#no. of arguments= no. of parameters\n",
    "#function call is always dependent on function definition.\n"
   ]
  },
  {
   "cell_type": "code",
   "execution_count": null,
   "id": "9f33e27d",
   "metadata": {},
   "outputs": [],
   "source": [
    "Global keyword:\n",
    "it is used to create a global variable locally.\n",
    "-done by using keyword global"
   ]
  },
  {
   "cell_type": "code",
   "execution_count": 7,
   "id": "f81dffaf",
   "metadata": {},
   "outputs": [
    {
     "name": "stdout",
     "output_type": "stream",
     "text": [
      "In 9\n",
      "Out 9\n"
     ]
    }
   ],
   "source": [
    "def example():\n",
    "    global q\n",
    "    q=9\n",
    "    print('In',q)\n",
    "    return\n",
    "example()\n",
    "print('Out',q)"
   ]
  },
  {
   "cell_type": "code",
   "execution_count": 9,
   "id": "d531a180",
   "metadata": {},
   "outputs": [
    {
     "ename": "UnboundLocalError",
     "evalue": "cannot access local variable 'j' where it is not associated with a value",
     "output_type": "error",
     "traceback": [
      "\u001b[1;31m---------------------------------------------------------------------------\u001b[0m",
      "\u001b[1;31mUnboundLocalError\u001b[0m                         Traceback (most recent call last)",
      "Cell \u001b[1;32mIn[9], line 6\u001b[0m\n\u001b[0;32m      4\u001b[0m     \u001b[38;5;28;01mreturn\u001b[39;00m\n\u001b[0;32m      5\u001b[0m j\u001b[38;5;241m=\u001b[39m\u001b[38;5;241m12\u001b[39m\n\u001b[1;32m----> 6\u001b[0m example()\n\u001b[0;32m      7\u001b[0m \u001b[38;5;28mprint\u001b[39m(\u001b[38;5;124m'\u001b[39m\u001b[38;5;124mOut\u001b[39m\u001b[38;5;124m'\u001b[39m,j)\n",
      "Cell \u001b[1;32mIn[9], line 2\u001b[0m, in \u001b[0;36mexample\u001b[1;34m()\u001b[0m\n\u001b[0;32m      1\u001b[0m \u001b[38;5;28;01mdef\u001b[39;00m \u001b[38;5;21mexample\u001b[39m():\n\u001b[1;32m----> 2\u001b[0m     j\u001b[38;5;241m+\u001b[39m\u001b[38;5;241m=\u001b[39m\u001b[38;5;241m2\u001b[39m   \u001b[38;5;66;03m#this does not work. WHY?\u001b[39;00m\n\u001b[0;32m      3\u001b[0m     \u001b[38;5;28mprint\u001b[39m(\u001b[38;5;124m'\u001b[39m\u001b[38;5;124mIn\u001b[39m\u001b[38;5;124m'\u001b[39m,j)\n\u001b[0;32m      4\u001b[0m     \u001b[38;5;28;01mreturn\u001b[39;00m\n",
      "\u001b[1;31mUnboundLocalError\u001b[0m: cannot access local variable 'j' where it is not associated with a value"
     ]
    }
   ],
   "source": [
    "def example():\n",
    "    j+=2   #this does not work. WHY? since there is no assignment locally.\n",
    "    print('In',j)\n",
    "    return\n",
    "j=12\n",
    "example()\n",
    "print('Out',j)\n",
    "#even tho global variable is accessible everywhere in the program, if we \n",
    "#try to modify it in a local namespace or perform operations on it, it will\n",
    "#throw error."
   ]
  },
  {
   "cell_type": "code",
   "execution_count": 10,
   "id": "506344bf",
   "metadata": {},
   "outputs": [
    {
     "name": "stdout",
     "output_type": "stream",
     "text": [
      "In 14\n",
      "Out 14\n"
     ]
    }
   ],
   "source": [
    "def example():\n",
    "    global j\n",
    "    j+=2   #works now. \n",
    "    print('In',j)\n",
    "    return\n",
    "j=12\n",
    "example()\n",
    "print('Out',j)"
   ]
  },
  {
   "cell_type": "markdown",
   "id": "c2d7b450",
   "metadata": {},
   "source": [
    "### Types of Arguments"
   ]
  },
  {
   "cell_type": "code",
   "execution_count": null,
   "id": "b8b7bfc5",
   "metadata": {},
   "outputs": [],
   "source": [
    "-Required Positional Argument\n",
    "-Keyword Argument\n",
    "-Default Argment\n",
    "-Variable Length Argument:\n",
    "    -Non-keyworded\n",
    "    -Keyworded"
   ]
  },
  {
   "cell_type": "code",
   "execution_count": 11,
   "id": "70808064",
   "metadata": {},
   "outputs": [],
   "source": [
    "#REQUIRED POSITIONAL ARGUMENT\n",
    "- The number of arguments is equal to number of parameters\n",
    "- The data is passed according to the positional order."
   ]
  },
  {
   "cell_type": "code",
   "execution_count": 12,
   "id": "fba3d674",
   "metadata": {},
   "outputs": [
    {
     "name": "stdout",
     "output_type": "stream",
     "text": [
      "a:  2\n",
      "b:  7\n"
     ]
    }
   ],
   "source": [
    "def exp1(a,b):\n",
    "    print('a: ', a)\n",
    "    print('b: ', b)\n",
    "    return\n",
    "x,y=2,7\n",
    "exp1(x,y)"
   ]
  },
  {
   "cell_type": "code",
   "execution_count": null,
   "id": "f1f43ded",
   "metadata": {},
   "outputs": [],
   "source": [
    "#KEYBOARD ARGUMENT\n",
    "- The number if arguments is equal to the nmber of parameters.\n",
    "- The data is passed according to the mentioned keyword."
   ]
  },
  {
   "cell_type": "code",
   "execution_count": 14,
   "id": "4fd768be",
   "metadata": {},
   "outputs": [
    {
     "name": "stdout",
     "output_type": "stream",
     "text": [
      "a:  hey\n",
      "b:  hey\n",
      "a:  2\n",
      "b:  hey\n"
     ]
    }
   ],
   "source": [
    "def exp2(a,b):\n",
    "    print('a: ', a)\n",
    "    print('b: ', b)\n",
    "    return\n",
    "x,y=2,'hey'\n",
    "exp2(a=y,b=y)\n",
    "exp2(b=y,a=x)   \n",
    "#here 'a' and 'b' act as keyword parameters. sequence also\n",
    "#does not matter."
   ]
  },
  {
   "cell_type": "code",
   "execution_count": null,
   "id": "29da3f9a",
   "metadata": {},
   "outputs": [],
   "source": [
    "#DEFAULT ARGUMENT\n",
    "- The number of arguments is less than equal to number of parameters.\n",
    "- The parameter will assume the default value if corresponding argument is\n",
    "  not passed."
   ]
  },
  {
   "cell_type": "code",
   "execution_count": 17,
   "id": "dd4f6330",
   "metadata": {},
   "outputs": [
    {
     "name": "stdout",
     "output_type": "stream",
     "text": [
      "a:  2\n",
      "b:  40\n",
      "a:  2\n",
      "b:  7\n",
      "a:  5\n",
      "b:  40\n"
     ]
    }
   ],
   "source": [
    "def exp3(a,b=40):\n",
    "    print('a: ', a)\n",
    "    print('b: ', b)\n",
    "    return\n",
    "x,y=2,7\n",
    "exp3(x)     #default is assumed when no arg is passed\n",
    "exp3(x,y)   #will overwrite the value if arg is passed\n",
    "exp3(a=5)"
   ]
  },
  {
   "cell_type": "code",
   "execution_count": null,
   "id": "2cf79eb1",
   "metadata": {},
   "outputs": [],
   "source": [
    "#VARIABLE LENGTH ARGUMENT\n",
    "- allows a function to receive any numbe of arguments.\n",
    "- NON_KEYWORDED:"
   ]
  },
  {
   "cell_type": "code",
   "execution_count": 24,
   "id": "488ae8f0",
   "metadata": {},
   "outputs": [
    {
     "name": "stdout",
     "output_type": "stream",
     "text": [
      "a:  2\n",
      "b:  ()\n",
      "a:  2\n",
      "b:  (7, 9, 'hey')\n",
      "a:  2\n",
      "b:  (7,)\n"
     ]
    }
   ],
   "source": [
    "def exp4(a,*b):    # * before a parameter will make it a variable tuple\n",
    "    print('a: ', a)\n",
    "    print('b: ', b)\n",
    "    return\n",
    "x,y=2,7\n",
    "exp4(x) \n",
    "exp4(x,y,9,'hey')\n",
    "exp4(x,y)"
   ]
  },
  {
   "cell_type": "code",
   "execution_count": 27,
   "id": "444e9973",
   "metadata": {},
   "outputs": [
    {
     "name": "stdout",
     "output_type": "stream",
     "text": [
      "a:  (2, 7, 'hi', 10)\n",
      "b:  you\n"
     ]
    }
   ],
   "source": [
    "#THERE CAN ONLY BE ONE VARIABE TUPLE.\n",
    "def exp4(*a,b):    # * before a parameter will make it a variable tuple\n",
    "    print('a: ', a)\n",
    "    print('b: ', b)\n",
    "    return\n",
    "x,y=2,7\n",
    "exp4(x,y,'hi',10,b='you') \n",
    "#if varaiable tuple is not the last parameter, keyword assigning will \n",
    "#have to be done for all the other arguments after variable tuple. or else\n",
    "#tuple will take all parameters and the rest won't gwt any args. hence, error."
   ]
  },
  {
   "cell_type": "code",
   "execution_count": 28,
   "id": "c9ad9b8f",
   "metadata": {},
   "outputs": [],
   "source": [
    "#EXAMPLE\n",
    "def class_average(*marks):\n",
    "    s=sum(marks)\n",
    "    av=s/len(marks)\n",
    "    print('Average:  ', av)\n",
    "    return"
   ]
  },
  {
   "cell_type": "code",
   "execution_count": 29,
   "id": "eb618f30",
   "metadata": {},
   "outputs": [
    {
     "name": "stdout",
     "output_type": "stream",
     "text": [
      "Average:   46.0\n"
     ]
    }
   ],
   "source": [
    "class_average(50,48,42,44)"
   ]
  },
  {
   "cell_type": "code",
   "execution_count": 30,
   "id": "666ffe8e",
   "metadata": {},
   "outputs": [
    {
     "name": "stdout",
     "output_type": "stream",
     "text": [
      "Average:   43.0\n"
     ]
    }
   ],
   "source": [
    "class_average(42,44)"
   ]
  },
  {
   "cell_type": "code",
   "execution_count": null,
   "id": "3e45827e",
   "metadata": {},
   "outputs": [],
   "source": [
    "-KEYWORDED VARIABLE LENGTH ARGUMENT:"
   ]
  },
  {
   "cell_type": "code",
   "execution_count": 40,
   "id": "42b1d8e5",
   "metadata": {},
   "outputs": [
    {
     "name": "stdout",
     "output_type": "stream",
     "text": [
      "b:  {'name': 2, 'age': 7}\n"
     ]
    }
   ],
   "source": [
    "def exp5(**b):    # ** before a parameter will make it a variable dictionary\n",
    "    print('b: ', b)\n",
    "    return\n",
    "x,y=2,7\n",
    "exp5(name=x, age=y) \n",
    "#what we enter here are taken as keys to the dictionary. they have same rules\n",
    "#as variable or identifier naming. can't be numerals."
   ]
  },
  {
   "cell_type": "code",
   "execution_count": 36,
   "id": "87dd13fc",
   "metadata": {},
   "outputs": [
    {
     "name": "stdout",
     "output_type": "stream",
     "text": [
      "a:  (2, 'hi')\n",
      "b:  {'name': 'Snehal', 'age': 22}\n",
      "90\n"
     ]
    }
   ],
   "source": [
    "def exp5(*a,c=90,**b):    #both can be done together.\n",
    "    print('a: ', a)\n",
    "    print('b: ', b)\n",
    "    print(c)\n",
    "    return\n",
    "x,y=2,22\n",
    "exp5(x,'hi',name='Snehal', age=y) \n",
    "#varaiable dict should be the last parameter, keyword assigning will \n",
    "#have to be done for all the other arguments before variable dict. or else\n",
    "#it will take all parameters and the rest won't get any args. hence, error."
   ]
  },
  {
   "cell_type": "code",
   "execution_count": null,
   "id": "4ca89fe7",
   "metadata": {},
   "outputs": [],
   "source": []
  }
 ],
 "metadata": {
  "kernelspec": {
   "display_name": "Python 3 (ipykernel)",
   "language": "python",
   "name": "python3"
  },
  "language_info": {
   "codemirror_mode": {
    "name": "ipython",
    "version": 3
   },
   "file_extension": ".py",
   "mimetype": "text/x-python",
   "name": "python",
   "nbconvert_exporter": "python",
   "pygments_lexer": "ipython3",
   "version": "3.11.5"
  }
 },
 "nbformat": 4,
 "nbformat_minor": 5
}
