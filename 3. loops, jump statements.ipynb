{
 "cells": [
  {
   "cell_type": "markdown",
   "id": "17f26cef",
   "metadata": {},
   "source": [
    "# Loop Statements\n"
   ]
  },
  {
   "cell_type": "markdown",
   "id": "4aa4b37e",
   "metadata": {},
   "source": [
    "#### *for loop    *while loop"
   ]
  },
  {
   "cell_type": "code",
   "execution_count": 1,
   "id": "1f74482c",
   "metadata": {},
   "outputs": [],
   "source": [
    "#for loop: when number of reps is known\n",
    "#while loop: when the condition is known on which rep is dependent on"
   ]
  },
  {
   "cell_type": "code",
   "execution_count": null,
   "id": "d3fe2bde",
   "metadata": {},
   "outputs": [],
   "source": [
    "#Syntax of 'for' loop\n",
    "for variable in sequence:\n",
    "    task(s) that needs to be repeated\n",
    "    \n",
    "# range(start,end,step size)\n",
    "#used to creat a squence of integers within given boundaries\n",
    "#default start is 0. end of range is till end-1. default step size is 1.\n",
    "#for reverse step or negative step size, lower limit is one more than given \n",
    "#in condition, upper limit is as given\n",
    "#iteration: repetition"
   ]
  },
  {
   "cell_type": "code",
   "execution_count": 4,
   "id": "9a1d3d87",
   "metadata": {},
   "outputs": [
    {
     "name": "stdout",
     "output_type": "stream",
     "text": [
      "1\n",
      "2\n",
      "3\n",
      "4\n",
      "5\n",
      "....\n",
      "10\n",
      "9\n",
      "8\n",
      "7\n",
      "6\n"
     ]
    }
   ],
   "source": [
    "for i in range(1,6,1):\n",
    "    print(i)\n",
    "print('....')\n",
    "for i in range(10,5,-1):\n",
    "    print(i)"
   ]
  },
  {
   "cell_type": "code",
   "execution_count": 12,
   "id": "3a36a823",
   "metadata": {},
   "outputs": [
    {
     "data": {
      "text/plain": [
       "{'Name': ['Harsh', 'Rohan', 'Karan', 'Aarth'],\n",
       " 'City': ['Delhi', 'Orissa', 'Pune', 'Jamshedpur'],\n",
       " 'Age': [30, 28, 31, 26],\n",
       " 'Occupation': 'Data Scientist',\n",
       " 'Company': 'Microsoft'}"
      ]
     },
     "execution_count": 12,
     "metadata": {},
     "output_type": "execute_result"
    }
   ],
   "source": [
    "d={'Name':['Harsh','Rohan','Karan','Aarth'], 'City': ['Delhi', 'Orissa', 'Pune','Jamshedpur'],'Age':[30,28,31,26],'Occupation':'Data Scientist','Company': 'Microsoft'}\n",
    "d"
   ]
  },
  {
   "cell_type": "code",
   "execution_count": 13,
   "id": "3f25dfdf",
   "metadata": {},
   "outputs": [
    {
     "name": "stdout",
     "output_type": "stream",
     "text": [
      "Name\n",
      "City\n",
      "Age\n",
      "Occupation\n",
      "Company\n",
      "['Harsh', 'Rohan', 'Karan', 'Aarth']\n",
      "['Delhi', 'Orissa', 'Pune', 'Jamshedpur']\n",
      "[30, 28, 31, 26]\n",
      "Data Scientist\n",
      "Microsoft\n",
      "('Name', ['Harsh', 'Rohan', 'Karan', 'Aarth'])\n",
      "('City', ['Delhi', 'Orissa', 'Pune', 'Jamshedpur'])\n",
      "('Age', [30, 28, 31, 26])\n",
      "('Occupation', 'Data Scientist')\n",
      "('Company', 'Microsoft')\n",
      "Name\n",
      "['Harsh', 'Rohan', 'Karan', 'Aarth']\n",
      "Name ['Harsh', 'Rohan', 'Karan', 'Aarth']\n",
      "City\n",
      "['Delhi', 'Orissa', 'Pune', 'Jamshedpur']\n",
      "City ['Delhi', 'Orissa', 'Pune', 'Jamshedpur']\n",
      "Age\n",
      "[30, 28, 31, 26]\n",
      "Age [30, 28, 31, 26]\n",
      "Occupation\n",
      "Data Scientist\n",
      "Occupation Data Scientist\n",
      "Company\n",
      "Microsoft\n",
      "Company Microsoft\n"
     ]
    }
   ],
   "source": [
    "for x in d.keys():\n",
    "    print (x)\n",
    "for x in d.values():\n",
    "    print (x)\n",
    "for x in d.items(): #elements in tuples\n",
    "    print (x)\n",
    "for x,t in d.items():\n",
    "    print(x)\n",
    "    print(t)\n",
    "    print(x,t)"
   ]
  },
  {
   "cell_type": "code",
   "execution_count": null,
   "id": "b46c2fbf",
   "metadata": {},
   "outputs": [],
   "source": [
    "#Syntax of while loop\n",
    "while (condition):\n",
    "    task(s) that needs to be done\n",
    "    increment/decrement/change statement\n",
    "\n",
    "#Jump statements\n",
    "-break   \n",
    "-continue\n",
    "-pass\n",
    "*break and continue will work only with loop statements"
   ]
  },
  {
   "cell_type": "markdown",
   "id": "e7b760e7",
   "metadata": {},
   "source": [
    "### break\n",
    "break will terminate the loop then and there as soon as it is executed."
   ]
  },
  {
   "cell_type": "markdown",
   "id": "d1e981c0",
   "metadata": {},
   "source": [
    "### continue\n",
    "continue will skip the remaining task(s) of current iteration and moves onto the next iteration."
   ]
  },
  {
   "cell_type": "code",
   "execution_count": null,
   "id": "ddcb355a",
   "metadata": {},
   "outputs": [],
   "source": [
    "for condition:\n",
    "    task\n",
    "    break/continue\n",
    "else:\n",
    "    task\n",
    "\n",
    "#else statement of loop will get executed only when ALL the iterations of \n",
    "#the loop run successfully. break might affect the else statement for a for\n",
    "#loop but continue does not affect the else statement. else always works in \n",
    "#case of continue.\n",
    "#same thing for while else."
   ]
  },
  {
   "cell_type": "markdown",
   "id": "b82e9f2f",
   "metadata": {},
   "source": [
    "### pass\n",
    "placeholder when you don't know how to proceed with a part of code. skips the part of code for now."
   ]
  },
  {
   "cell_type": "code",
   "execution_count": null,
   "id": "7d0413d1",
   "metadata": {},
   "outputs": [],
   "source": [
    "q1. Print all the even numbers from 1 to 10\n",
    "q2. Print all the even numbers from m to n (from user)\n",
    "q3. Print the squares of numbers from 1 to 10\n",
    "q4. Print the squares of first 10 even numbers\n",
    "q5. Print the squares of first 10 odd numbers\n",
    "q6. Calculate the sum of first 10 numbers\n",
    "q7. Calculate the percentage of n students in 5 subjects \n",
    "(max n=5, if limit is reached print complete, otherwise incomplete)\n",
    "q8. Print a list in reverse order using loop.\n",
    "q9. Print the multiplication table of n(input) in the given format: \n",
    "    num * i = product\n",
    "    ...\n",
    "    num * 10 = product"
   ]
  },
  {
   "cell_type": "code",
   "execution_count": 26,
   "id": "c1ccfd18",
   "metadata": {},
   "outputs": [
    {
     "name": "stdout",
     "output_type": "stream",
     "text": [
      "2\n",
      "4\n",
      "6\n",
      "8\n",
      "10\n",
      "Enter lower boundary limit: 11\n",
      "Enter upper boundary limit: 25\n",
      "12\n",
      "14\n",
      "16\n",
      "18\n",
      "20\n",
      "22\n",
      "24\n"
     ]
    }
   ],
   "source": [
    "#q1 and q2\n",
    "for i in range(2,11,2):\n",
    "    print(i)\n",
    "    \n",
    "m=int(input('Enter lower boundary limit: '))\n",
    "n=int(input('Enter upper boundary limit: '))\n",
    "if (m%2==1):\n",
    "    m=m+1\n",
    "for i in range(m,n,2):\n",
    "    print(i)"
   ]
  },
  {
   "cell_type": "code",
   "execution_count": 20,
   "id": "b138523e",
   "metadata": {},
   "outputs": [
    {
     "name": "stdout",
     "output_type": "stream",
     "text": [
      "1\n",
      "4\n",
      "9\n",
      "16\n",
      "25\n",
      "36\n",
      "49\n",
      "64\n",
      "81\n",
      "100\n"
     ]
    }
   ],
   "source": [
    "#q3\n",
    "for i in range(1,11):\n",
    "    print(i*i)"
   ]
  },
  {
   "cell_type": "code",
   "execution_count": 44,
   "id": "d2a7e922",
   "metadata": {},
   "outputs": [
    {
     "name": "stdout",
     "output_type": "stream",
     "text": [
      "4\n",
      "16\n",
      "36\n",
      "64\n",
      "100\n",
      "144\n",
      "196\n",
      "256\n",
      "324\n",
      "400\n"
     ]
    }
   ],
   "source": [
    "#q4\n",
    "i=2\n",
    "for a in range(10):\n",
    "    print(i*i)\n",
    "    i+=2\n",
    "    "
   ]
  },
  {
   "cell_type": "code",
   "execution_count": 25,
   "id": "e728e514",
   "metadata": {},
   "outputs": [
    {
     "name": "stdout",
     "output_type": "stream",
     "text": [
      "1\n",
      "9\n",
      "25\n",
      "49\n",
      "81\n",
      "121\n",
      "169\n",
      "225\n",
      "289\n",
      "361\n"
     ]
    }
   ],
   "source": [
    "#q5\n",
    "c=0\n",
    "i=1\n",
    "while(c<10):\n",
    "    c+=1\n",
    "    print(i*i)\n",
    "    i+=2"
   ]
  },
  {
   "cell_type": "code",
   "execution_count": 27,
   "id": "b6f93a8f",
   "metadata": {},
   "outputs": [
    {
     "name": "stdout",
     "output_type": "stream",
     "text": [
      "55\n"
     ]
    }
   ],
   "source": [
    "#q6\n",
    "sum=0\n",
    "for i in range(1,11):\n",
    "    sum=sum+i\n",
    "print(sum)"
   ]
  },
  {
   "cell_type": "code",
   "execution_count": 35,
   "id": "cf2a508e",
   "metadata": {},
   "outputs": [
    {
     "name": "stdout",
     "output_type": "stream",
     "text": [
      "Enter no. of elements in the list: 4\n",
      "Enter element: hi\n",
      "Enter element: hey\n",
      "Enter element: hello\n",
      "Enter element: hola\n",
      "hola\n",
      "hello\n",
      "hey\n",
      "hi\n"
     ]
    }
   ],
   "source": [
    "#q8\n",
    "n=int(input('Enter no. of elements in the list: '))\n",
    "l=[]\n",
    "for i in range(n):\n",
    "    l.insert(i,input('Enter element: '))\n",
    "for i in range(len(l)-1,-1,-1):\n",
    "    print(l[i])"
   ]
  },
  {
   "cell_type": "code",
   "execution_count": null,
   "id": "851e0a3a",
   "metadata": {},
   "outputs": [
    {
     "name": "stdout",
     "output_type": "stream",
     "text": [
      "Enter number of students: 3\n",
      "Enter mark of student 1 in subject 1: 60\n",
      "Enter mark of student 1 in subject 2: 65\n",
      "Enter mark of student 1 in subject 3: 70\n",
      "Enter mark of student 1 in subject 4: 75\n",
      "Enter mark of student 1 in subject 5: 80\n",
      "Percentage marks of student 1 is  70.0  %\n",
      "-------\n",
      "List incomplete. 2 students left.\n"
     ]
    }
   ],
   "source": [
    "#q7\n",
    "n=int(input('Enter number of students: '))\n",
    "for i in range(1,n+1):\n",
    "    M1=float(input('Enter mark of student '+str(i)+' in subject 1: '))\n",
    "    M2=float(input('Enter mark of student '+str(i)+' in subject 2: '))\n",
    "    M3=float(input('Enter mark of student '+str(i)+' in subject 3: '))\n",
    "    M4=float(input('Enter mark of student '+str(i)+' in subject 4: '))\n",
    "    M5=float(input('Enter mark of student '+str(i)+' in subject 5: '))\n",
    "    print('Percentage marks of student '+str(i)+' is ',(M1+M2+M3+M4+M5)/5,' %')\n",
    "    print('-------')\n",
    "    if (i==5):\n",
    "        print('Maximum students can be 5. Limit is complete.')\n",
    "        break\n",
    "    else:\n",
    "        print(f'List incomplete. {n-i} students left.')\n",
    "            "
   ]
  },
  {
   "cell_type": "code",
   "execution_count": null,
   "id": "21af5a14",
   "metadata": {},
   "outputs": [],
   "source": [
    "#q9\n",
    "num=int(input('Enter number: '))\n",
    "for i in range(1,11):\n",
    "    print(num,' * ',i,' = ',num*i)"
   ]
  },
  {
   "cell_type": "code",
   "execution_count": null,
   "id": "58bc962a",
   "metadata": {},
   "outputs": [],
   "source": []
  }
 ],
 "metadata": {
  "kernelspec": {
   "display_name": "Python 3 (ipykernel)",
   "language": "python",
   "name": "python3"
  },
  "language_info": {
   "codemirror_mode": {
    "name": "ipython",
    "version": 3
   },
   "file_extension": ".py",
   "mimetype": "text/x-python",
   "name": "python",
   "nbconvert_exporter": "python",
   "pygments_lexer": "ipython3",
   "version": "3.11.5"
  }
 },
 "nbformat": 4,
 "nbformat_minor": 5
}
