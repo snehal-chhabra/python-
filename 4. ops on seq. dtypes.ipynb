{
 "cells": [
  {
   "cell_type": "markdown",
   "id": "adf002f2",
   "metadata": {},
   "source": [
    "## Operations on Sequence Data Types\n",
    "(strings, lists, tuples, dictionary)"
   ]
  },
  {
   "cell_type": "markdown",
   "id": "53803b79",
   "metadata": {},
   "source": [
    "### OPERATIONS ON STRINGS"
   ]
  },
  {
   "cell_type": "code",
   "execution_count": 2,
   "id": "e752a229",
   "metadata": {},
   "outputs": [
    {
     "name": "stdout",
     "output_type": "stream",
     "text": [
      "HelloWorld Hello World\n",
      "HelloHelloHello\n"
     ]
    }
   ],
   "source": [
    "#Concatenation\n",
    "s1='Hello'\n",
    "s2=\"World\"\n",
    "s3=s1+s2\n",
    "s4=s1+' '+s2\n",
    "print(s3,s4)\n",
    "\n",
    "#Repetition\n",
    "s5=s1*3\n",
    "print(s5)"
   ]
  },
  {
   "cell_type": "code",
   "execution_count": null,
   "id": "e56d35ee",
   "metadata": {},
   "outputs": [],
   "source": [
    "#Operator overloading means the same operators works in different manners\n",
    "#for different types of input/data types.\n",
    "1+2=3\n",
    "'1'+'2'='12'"
   ]
  },
  {
   "cell_type": "code",
   "execution_count": 3,
   "id": "025f6023",
   "metadata": {},
   "outputs": [
    {
     "data": {
      "text/plain": [
       "'l'"
      ]
     },
     "execution_count": 3,
     "metadata": {},
     "output_type": "execute_result"
    }
   ],
   "source": [
    "#Indexing\n",
    "s1[3]"
   ]
  },
  {
   "cell_type": "code",
   "execution_count": 9,
   "id": "c8fdc3f4",
   "metadata": {},
   "outputs": [
    {
     "name": "stdout",
     "output_type": "stream",
     "text": [
      "Hello World\n",
      "loWr\n",
      "Hello W\n",
      "Hello World\n",
      "lo World\n",
      "HloWrd\n",
      "oW ol\n",
      "dlroW olleH\n"
     ]
    }
   ],
   "source": [
    "#Slicing\n",
    "#Syntax: str[m:n:p] same as range function\n",
    "#str[startIndex: endIndex: stepsize]\n",
    "print(s4)\n",
    "print(s4[2:9:2])\n",
    "#Similarly these can also be done. values are taken by default.\n",
    "print(s4[:7])\n",
    "print(s4[:])\n",
    "print(s4[3:])\n",
    "print(s4[::2])\n",
    "print(s4[7:2:-1])\n",
    "print(s4[::-1])"
   ]
  },
  {
   "cell_type": "markdown",
   "id": "13d9641e",
   "metadata": {},
   "source": [
    "### Methods on Strings"
   ]
  },
  {
   "cell_type": "code",
   "execution_count": null,
   "id": "79c4f04a",
   "metadata": {},
   "outputs": [],
   "source": [
    "#find method is used to find the index value of the first occurence of a \n",
    "#substring in the whole string, returns -1 if not found \n",
    "#syntax:  str.find(subStr, startIndex*=0(def) , endIndex*=len(str)(def)) \n",
    "#*optional"
   ]
  },
  {
   "cell_type": "code",
   "execution_count": 10,
   "id": "1e4f41ce",
   "metadata": {},
   "outputs": [
    {
     "data": {
      "text/plain": [
       "'Hello World'"
      ]
     },
     "execution_count": 10,
     "metadata": {},
     "output_type": "execute_result"
    }
   ],
   "source": [
    "s4"
   ]
  },
  {
   "cell_type": "code",
   "execution_count": 11,
   "id": "02ecc507",
   "metadata": {},
   "outputs": [
    {
     "data": {
      "text/plain": [
       "1"
      ]
     },
     "execution_count": 11,
     "metadata": {},
     "output_type": "execute_result"
    }
   ],
   "source": [
    "s4.find('e')"
   ]
  },
  {
   "cell_type": "code",
   "execution_count": 20,
   "id": "61d70fe5",
   "metadata": {},
   "outputs": [
    {
     "data": {
      "text/plain": [
       "7"
      ]
     },
     "execution_count": 20,
     "metadata": {},
     "output_type": "execute_result"
    }
   ],
   "source": [
    "s4.find('orld')"
   ]
  },
  {
   "cell_type": "code",
   "execution_count": 21,
   "id": "1814c76c",
   "metadata": {},
   "outputs": [
    {
     "data": {
      "text/plain": [
       "-1"
      ]
     },
     "execution_count": 21,
     "metadata": {},
     "output_type": "execute_result"
    }
   ],
   "source": [
    "s4.find('Word')"
   ]
  },
  {
   "cell_type": "code",
   "execution_count": 13,
   "id": "f7a030b5",
   "metadata": {},
   "outputs": [
    {
     "data": {
      "text/plain": [
       "4"
      ]
     },
     "execution_count": 13,
     "metadata": {},
     "output_type": "execute_result"
    }
   ],
   "source": [
    "s4.find('o')"
   ]
  },
  {
   "cell_type": "code",
   "execution_count": 14,
   "id": "562986ce",
   "metadata": {},
   "outputs": [
    {
     "data": {
      "text/plain": [
       "7"
      ]
     },
     "execution_count": 14,
     "metadata": {},
     "output_type": "execute_result"
    }
   ],
   "source": [
    "s4.find('o',6)"
   ]
  },
  {
   "cell_type": "code",
   "execution_count": 19,
   "id": "feff0374",
   "metadata": {},
   "outputs": [
    {
     "data": {
      "text/plain": [
       "6"
      ]
     },
     "execution_count": 19,
     "metadata": {},
     "output_type": "execute_result"
    }
   ],
   "source": [
    "s4.find('W',0)"
   ]
  },
  {
   "cell_type": "code",
   "execution_count": null,
   "id": "f22336f3",
   "metadata": {},
   "outputs": [],
   "source": [
    "#index method is used to find the index value of the first occurence of a \n",
    "#substring in the whole string, returns error if not found.\n",
    "#syntax:  str.index(subStr, startIndex*=0(def) , endIndex*=len(str)(def)) \n",
    "#*optional\n",
    "#find and index are same only difference is what it  returns if not found"
   ]
  },
  {
   "cell_type": "code",
   "execution_count": 28,
   "id": "27e82fa4",
   "metadata": {},
   "outputs": [],
   "source": [
    "#replace method is used to replace a substring with a new string\n",
    "#str2=str.replace(subStr, newStr)\n",
    "#if count of replacements is not mentioned then all possible \n",
    "#substrings are replaced"
   ]
  },
  {
   "cell_type": "code",
   "execution_count": 32,
   "id": "4cc9af19",
   "metadata": {},
   "outputs": [
    {
     "name": "stdout",
     "output_type": "stream",
     "text": [
      "Hello People\n"
     ]
    }
   ],
   "source": [
    "ns=s4.replace('World','People')\n",
    "print(ns)"
   ]
  },
  {
   "cell_type": "code",
   "execution_count": 33,
   "id": "601b668d",
   "metadata": {},
   "outputs": [
    {
     "data": {
      "text/plain": [
       "'Hella Warld'"
      ]
     },
     "execution_count": 33,
     "metadata": {},
     "output_type": "execute_result"
    }
   ],
   "source": [
    "s4.replace('o','a')"
   ]
  },
  {
   "cell_type": "code",
   "execution_count": 34,
   "id": "f57d36e1",
   "metadata": {},
   "outputs": [
    {
     "data": {
      "text/plain": [
       "'Hella World'"
      ]
     },
     "execution_count": 34,
     "metadata": {},
     "output_type": "execute_result"
    }
   ],
   "source": [
    "s4.replace('o','a',1)"
   ]
  },
  {
   "cell_type": "code",
   "execution_count": null,
   "id": "8d650d9f",
   "metadata": {},
   "outputs": [],
   "source": [
    "#split method is used to split a string based on a separator and save the \n",
    "#o/p in a list \n",
    "#l=str.split(separator,noOfSpits*=allPossibleSplits)"
   ]
  },
  {
   "cell_type": "code",
   "execution_count": 37,
   "id": "7d32457f",
   "metadata": {},
   "outputs": [
    {
     "data": {
      "text/plain": [
       "['Hel', ' World']"
      ]
     },
     "execution_count": 37,
     "metadata": {},
     "output_type": "execute_result"
    }
   ],
   "source": [
    "l=s4.split('lo')\n",
    "l"
   ]
  },
  {
   "cell_type": "code",
   "execution_count": 38,
   "id": "d3c50e3e",
   "metadata": {},
   "outputs": [
    {
     "data": {
      "text/plain": [
       "['19', '09', '2002']"
      ]
     },
     "execution_count": 38,
     "metadata": {},
     "output_type": "execute_result"
    }
   ],
   "source": [
    "dob='19/09/2002'\n",
    "dob.split('/')"
   ]
  },
  {
   "cell_type": "code",
   "execution_count": 39,
   "id": "497de9fc",
   "metadata": {},
   "outputs": [
    {
     "data": {
      "text/plain": [
       "['19', '09/2002']"
      ]
     },
     "execution_count": 39,
     "metadata": {},
     "output_type": "execute_result"
    }
   ],
   "source": [
    "dob.split('/',1)"
   ]
  },
  {
   "cell_type": "code",
   "execution_count": 42,
   "id": "4fce2ba8",
   "metadata": {},
   "outputs": [
    {
     "data": {
      "text/plain": [
       "['19', '09', '2002']"
      ]
     },
     "execution_count": 42,
     "metadata": {},
     "output_type": "execute_result"
    }
   ],
   "source": [
    "d1=dob.split('/')\n",
    "d1"
   ]
  },
  {
   "cell_type": "code",
   "execution_count": 43,
   "id": "2a73d8cf",
   "metadata": {},
   "outputs": [
    {
     "data": {
      "text/plain": [
       "'19'"
      ]
     },
     "execution_count": 43,
     "metadata": {},
     "output_type": "execute_result"
    }
   ],
   "source": [
    "d1[0]"
   ]
  },
  {
   "cell_type": "code",
   "execution_count": 44,
   "id": "8438c905",
   "metadata": {},
   "outputs": [
    {
     "data": {
      "text/plain": [
       "'09'"
      ]
     },
     "execution_count": 44,
     "metadata": {},
     "output_type": "execute_result"
    }
   ],
   "source": [
    "d1[1]"
   ]
  },
  {
   "cell_type": "code",
   "execution_count": 45,
   "id": "c509113b",
   "metadata": {},
   "outputs": [
    {
     "data": {
      "text/plain": [
       "'2002'"
      ]
     },
     "execution_count": 45,
     "metadata": {},
     "output_type": "execute_result"
    }
   ],
   "source": [
    "d1[2]"
   ]
  },
  {
   "cell_type": "code",
   "execution_count": 46,
   "id": "2564f46a",
   "metadata": {},
   "outputs": [],
   "source": [
    "d,m,y=dob.split('/')  #this can be done when you know thw number of parts the strig is spit into\n"
   ]
  },
  {
   "cell_type": "code",
   "execution_count": 47,
   "id": "44be5ba7",
   "metadata": {},
   "outputs": [
    {
     "data": {
      "text/plain": [
       "'19'"
      ]
     },
     "execution_count": 47,
     "metadata": {},
     "output_type": "execute_result"
    }
   ],
   "source": [
    "d"
   ]
  },
  {
   "cell_type": "code",
   "execution_count": 48,
   "id": "3f07add8",
   "metadata": {},
   "outputs": [
    {
     "data": {
      "text/plain": [
       "'09'"
      ]
     },
     "execution_count": 48,
     "metadata": {},
     "output_type": "execute_result"
    }
   ],
   "source": [
    "m"
   ]
  },
  {
   "cell_type": "code",
   "execution_count": 49,
   "id": "c6dacc59",
   "metadata": {},
   "outputs": [
    {
     "data": {
      "text/plain": [
       "'2002'"
      ]
     },
     "execution_count": 49,
     "metadata": {},
     "output_type": "execute_result"
    }
   ],
   "source": [
    "y"
   ]
  },
  {
   "cell_type": "code",
   "execution_count": null,
   "id": "cc234fe6",
   "metadata": {},
   "outputs": [],
   "source": [
    "#count method is used to count the number of occurences of a substring\n",
    "#in a range of a string\n",
    "#syntax: str.count('substr', startIndex, endIndex)"
   ]
  },
  {
   "cell_type": "code",
   "execution_count": 50,
   "id": "eb95e03c",
   "metadata": {},
   "outputs": [
    {
     "data": {
      "text/plain": [
       "2"
      ]
     },
     "execution_count": 50,
     "metadata": {},
     "output_type": "execute_result"
    }
   ],
   "source": [
    "s4.count('o')"
   ]
  },
  {
   "cell_type": "code",
   "execution_count": 51,
   "id": "04db938a",
   "metadata": {},
   "outputs": [
    {
     "data": {
      "text/plain": [
       "0"
      ]
     },
     "execution_count": 51,
     "metadata": {},
     "output_type": "execute_result"
    }
   ],
   "source": [
    "s4.count('w')"
   ]
  },
  {
   "cell_type": "code",
   "execution_count": 53,
   "id": "dc8af5be",
   "metadata": {},
   "outputs": [
    {
     "data": {
      "text/plain": [
       "0"
      ]
     },
     "execution_count": 53,
     "metadata": {},
     "output_type": "execute_result"
    }
   ],
   "source": [
    "s4.count('W',7)"
   ]
  },
  {
   "cell_type": "code",
   "execution_count": 54,
   "id": "dbbb6850",
   "metadata": {},
   "outputs": [
    {
     "data": {
      "text/plain": [
       "1"
      ]
     },
     "execution_count": 54,
     "metadata": {},
     "output_type": "execute_result"
    }
   ],
   "source": [
    "s4.count('W',0,7)"
   ]
  },
  {
   "cell_type": "code",
   "execution_count": null,
   "id": "205c2f5f",
   "metadata": {},
   "outputs": [],
   "source": [
    "#Casing Methods in String\n",
    ".upper() function is used to uppercase entire string\n",
    ".lower() function is used to lowercase entire string\n",
    ".title() function is used to uppercase first letter of every world\n",
    ".capitalize() function is used to capitalize the first alphabet of every \n",
    "string only\n",
    ".isupper() checks if all elements of string are in uppercase\n",
    ".islower() checks if all elements of string are in lowercase\n",
    ".istitle() checks if all first letters of every word in string are in\n",
    "uppercase\n",
    ".isapha() checks if every element is an alphabet or not\n",
    ".isdigit() checks if every element is a digit\n",
    ".isalnum() checks if element is either a digit or an alphabet or both\n",
    " "
   ]
  },
  {
   "cell_type": "code",
   "execution_count": null,
   "id": "0f65699e",
   "metadata": {},
   "outputs": [],
   "source": [
    "#comparison of strings\n",
    "- comparison on basis of ASCII values\n",
    "max(str) gives element with highest ASCII value\n",
    "min(str) gives element with lowest ASCII value\n",
    "ord(str) gives ASCII value of string element\n"
   ]
  },
  {
   "cell_type": "markdown",
   "id": "a13e1682",
   "metadata": {},
   "source": [
    "### String Formatting"
   ]
  },
  {
   "cell_type": "code",
   "execution_count": null,
   "id": "a844f91d",
   "metadata": {},
   "outputs": [],
   "source": [
    "-using % operator\n",
    "-using format method\n",
    "-using f-string(formatted string)"
   ]
  },
  {
   "cell_type": "code",
   "execution_count": 55,
   "id": "7e4f9e66",
   "metadata": {},
   "outputs": [
    {
     "name": "stdout",
     "output_type": "stream",
     "text": [
      "Th sum of 5 and 3 is 8 .\n"
     ]
    }
   ],
   "source": [
    "x=5\n",
    "y=3\n",
    "print('Th sum of',x,'and',y, 'is', x+y,'.')"
   ]
  },
  {
   "cell_type": "code",
   "execution_count": 56,
   "id": "7439d40f",
   "metadata": {},
   "outputs": [
    {
     "name": "stdout",
     "output_type": "stream",
     "text": [
      "The sum of 5 and 3 is 8.\n"
     ]
    }
   ],
   "source": [
    "#1\n",
    "#here % is creating an empty placeholder for the data. d means data will \n",
    "#be int type,f means float data type  \n",
    "print('The sum of %d and %d is %d.'%(x,y,x+y))\n",
    "#in case of float, to limit number of digit after decimal point we can \n",
    "#give the number we want. for eg: %.2f means 2 digits after dec point."
   ]
  },
  {
   "cell_type": "code",
   "execution_count": null,
   "id": "1ca2c3ed",
   "metadata": {},
   "outputs": [],
   "source": [
    "#2\n",
    "print('The sum of {} and {} is {}.'.format(x, y, x+y))\n",
    "print('The sum of {a} and {b} is {c}.'.format(a=x, b=y, c=x+y)) \n",
    "#second one is by using keywords\n",
    "#string formatting can be done directly as well, not just in print \n",
    "#statements \n",
    "d= 'The sum of {} and {} is {}.'.format(x, y, x+y)\n",
    "print('The sum of {0} and {1} is {2}.'.format(x, y, x+y))\n",
    "#this is index formatting. since values of x,y,x+y is saved in backend \n",
    "#and they can be accessed using their index values\n",
    "print('The sum of {x} and {y} is {x+y}.')\n",
    "#this simply prints the statement as it is in quotes, since formatting\n",
    "#command is not given to python in any way here"
   ]
  },
  {
   "cell_type": "code",
   "execution_count": null,
   "id": "c2f0dc4f",
   "metadata": {},
   "outputs": [],
   "source": [
    "#3\n",
    "print(f'The sum of {x} and {y} is {x+y}.')\n",
    "#this is again placeholding technique called f-string method; \n",
    "#shortest and easiest."
   ]
  },
  {
   "cell_type": "code",
   "execution_count": 57,
   "id": "c1b7484b",
   "metadata": {},
   "outputs": [
    {
     "name": "stdout",
     "output_type": "stream",
     "text": [
      "The sum of 6 and 3 is 9.\n"
     ]
    }
   ],
   "source": [
    "print('The sum of %d and %d is %d.'%(6.5,y,6.5+y))  \n",
    "#in case you need ans in int format no matter the data types of inputs"
   ]
  },
  {
   "cell_type": "code",
   "execution_count": 58,
   "id": "3db6d9c9",
   "metadata": {},
   "outputs": [
    {
     "name": "stdout",
     "output_type": "stream",
     "text": [
      "The sum of 6.5 and 3 is 9.5.\n"
     ]
    }
   ],
   "source": [
    "print(f'The sum of {6.5} and {y} is {6.5+y}.')\n",
    "#this gives ans in data type as it is acc to type of inputs"
   ]
  },
  {
   "cell_type": "markdown",
   "id": "5cfe2afc",
   "metadata": {},
   "source": [
    "### Operations on List"
   ]
  },
  {
   "cell_type": "code",
   "execution_count": null,
   "id": "168b492c",
   "metadata": {},
   "outputs": [],
   "source": [
    "#time: 1:47:27"
   ]
  },
  {
   "cell_type": "code",
   "execution_count": 59,
   "id": "d58e2fe3",
   "metadata": {},
   "outputs": [],
   "source": [
    "l1=[2,4,6]\n",
    "l2=[3,5,7,8]"
   ]
  },
  {
   "cell_type": "code",
   "execution_count": 60,
   "id": "f2f09bc1",
   "metadata": {},
   "outputs": [
    {
     "data": {
      "text/plain": [
       "[2, 4, 6, 3, 5, 7, 8]"
      ]
     },
     "execution_count": 60,
     "metadata": {},
     "output_type": "execute_result"
    }
   ],
   "source": [
    "#Concatenation\n",
    "l3=l1+l2\n",
    "l3"
   ]
  },
  {
   "cell_type": "code",
   "execution_count": 63,
   "id": "bc6612d1",
   "metadata": {},
   "outputs": [
    {
     "data": {
      "text/plain": [
       "[2, 4, 6, 2, 4, 6, 2, 4, 6, 2, 4, 6, 2, 4, 6]"
      ]
     },
     "execution_count": 63,
     "metadata": {},
     "output_type": "execute_result"
    }
   ],
   "source": [
    "#Repetition\n",
    "l1 * 5"
   ]
  },
  {
   "cell_type": "code",
   "execution_count": 64,
   "id": "24b104ef",
   "metadata": {},
   "outputs": [
    {
     "data": {
      "text/plain": [
       "6"
      ]
     },
     "execution_count": 64,
     "metadata": {},
     "output_type": "execute_result"
    }
   ],
   "source": [
    "#Indexing\n",
    "l1[2]"
   ]
  },
  {
   "cell_type": "code",
   "execution_count": 65,
   "id": "3004a4ab",
   "metadata": {},
   "outputs": [
    {
     "data": {
      "text/plain": [
       "[6, 4, 2]"
      ]
     },
     "execution_count": 65,
     "metadata": {},
     "output_type": "execute_result"
    }
   ],
   "source": [
    "l1[::-1]   #Reverse Slicing"
   ]
  },
  {
   "cell_type": "code",
   "execution_count": 80,
   "id": "29e5c124",
   "metadata": {},
   "outputs": [],
   "source": [
    "l1=[2,4,6]"
   ]
  },
  {
   "cell_type": "code",
   "execution_count": 66,
   "id": "e5be5912",
   "metadata": {},
   "outputs": [
    {
     "data": {
      "text/plain": [
       "[8, 5, 6, 2]"
      ]
     },
     "execution_count": 66,
     "metadata": {},
     "output_type": "execute_result"
    }
   ],
   "source": [
    "l3[::-2]"
   ]
  },
  {
   "cell_type": "code",
   "execution_count": 81,
   "id": "c02fb861",
   "metadata": {},
   "outputs": [
    {
     "data": {
      "text/plain": [
       "[2, 4, 6, 'hi']"
      ]
     },
     "execution_count": 81,
     "metadata": {},
     "output_type": "execute_result"
    }
   ],
   "source": [
    "l1.append('hi')  #append method is used to add a new \n",
    "#element to the end of a list\n",
    "#syntax: list.append(non/sequence data type)\n",
    "l1"
   ]
  },
  {
   "cell_type": "code",
   "execution_count": 82,
   "id": "e9b767be",
   "metadata": {},
   "outputs": [
    {
     "data": {
      "text/plain": [
       "[2, 4, 6, 'hi', 'h', 'i']"
      ]
     },
     "execution_count": 82,
     "metadata": {},
     "output_type": "execute_result"
    }
   ],
   "source": [
    "#extend method is used to extend the current list by the \n",
    "#elements of the sequence.\n",
    "#syntax: list.extend(sequence)\n",
    "l1.extend('hi')  \n",
    "#this is why the data type inside the bracket needs to be sequencial\n",
    "l1"
   ]
  },
  {
   "cell_type": "code",
   "execution_count": 92,
   "id": "336e17b8",
   "metadata": {},
   "outputs": [],
   "source": [
    "l5=['hi','hey','hello']\n",
    "l5\n",
    "l2=[3,5,7,8]"
   ]
  },
  {
   "cell_type": "code",
   "execution_count": 93,
   "id": "104042a1",
   "metadata": {},
   "outputs": [
    {
     "data": {
      "text/plain": [
       "[3, 5, 7, 8, 'hi', 'hey', 'hello']"
      ]
     },
     "execution_count": 93,
     "metadata": {},
     "output_type": "execute_result"
    }
   ],
   "source": [
    "l2.extend(l5)\n",
    "l2"
   ]
  },
  {
   "cell_type": "code",
   "execution_count": 94,
   "id": "3423c1e6",
   "metadata": {},
   "outputs": [
    {
     "data": {
      "text/plain": [
       "[3, 5, 7, 8, 'hi', 'hey', 'hello', ['hi', 'hey', 'hello']]"
      ]
     },
     "execution_count": 94,
     "metadata": {},
     "output_type": "execute_result"
    }
   ],
   "source": [
    "l2.append(l5) #adds list on a whole as an element\n",
    "l2"
   ]
  },
  {
   "cell_type": "code",
   "execution_count": 95,
   "id": "17318e84",
   "metadata": {},
   "outputs": [
    {
     "data": {
      "text/plain": [
       "[3, 5, 7, 8, 'hi', 'yes', 'hey', 'hello', ['hi', 'hey', 'hello']]"
      ]
     },
     "execution_count": 95,
     "metadata": {},
     "output_type": "execute_result"
    }
   ],
   "source": [
    "#insert method is uded to insert a particular element at a \n",
    "#particular index in the list\n",
    "#syntax: list.insert(index,element)\n",
    "l2.insert(5,'yes')\n",
    "l2"
   ]
  },
  {
   "cell_type": "code",
   "execution_count": 96,
   "id": "508a9e86",
   "metadata": {},
   "outputs": [
    {
     "data": {
      "text/plain": [
       "[3, 5, 7, 8, 'hi', 'yes', 'hey', 'hello', ['hi', 'hey', 'hello'], 'yes']"
      ]
     },
     "execution_count": 96,
     "metadata": {},
     "output_type": "execute_result"
    }
   ],
   "source": [
    "l2.insert(50,'yes') #worked as append since list length was less than 50\n",
    "l2"
   ]
  },
  {
   "cell_type": "code",
   "execution_count": 97,
   "id": "bb3f2c32",
   "metadata": {},
   "outputs": [],
   "source": [
    "#similarly\n",
    "l2.insert(len(l2),'yes')"
   ]
  },
  {
   "cell_type": "code",
   "execution_count": 98,
   "id": "0179abcc",
   "metadata": {},
   "outputs": [
    {
     "data": {
      "text/plain": [
       "[3, 5, 7, 8, 'hi', 'yes', 'hey', 'hello', ['hi', 'hey', 'hello'], 'yes', 'yes']"
      ]
     },
     "execution_count": 98,
     "metadata": {},
     "output_type": "execute_result"
    }
   ],
   "source": [
    "l2"
   ]
  },
  {
   "cell_type": "code",
   "execution_count": 99,
   "id": "559c6c20",
   "metadata": {},
   "outputs": [
    {
     "data": {
      "text/plain": [
       "[3,\n",
       " 5,\n",
       " 7,\n",
       " 8,\n",
       " 'hi',\n",
       " 'yes',\n",
       " 'hey',\n",
       " 'hello',\n",
       " ['hi', 'hey', 'hello'],\n",
       " 'yes',\n",
       " 'last',\n",
       " 'yes']"
      ]
     },
     "execution_count": 99,
     "metadata": {},
     "output_type": "execute_result"
    }
   ],
   "source": [
    "l2.insert(-1,'last')   #inderted in (-1)-1=-2 position\n",
    "l2"
   ]
  },
  {
   "cell_type": "code",
   "execution_count": null,
   "id": "60ac40db",
   "metadata": {},
   "outputs": [],
   "source": [
    "#pop method\n",
    "#syntax: list.pop(default index=-1)"
   ]
  },
  {
   "cell_type": "code",
   "execution_count": 100,
   "id": "1691dc1a",
   "metadata": {},
   "outputs": [
    {
     "data": {
      "text/plain": [
       "'yes'"
      ]
     },
     "execution_count": 100,
     "metadata": {},
     "output_type": "execute_result"
    }
   ],
   "source": [
    "l2.pop()  #popped out"
   ]
  },
  {
   "cell_type": "code",
   "execution_count": 101,
   "id": "dffa815f",
   "metadata": {},
   "outputs": [
    {
     "data": {
      "text/plain": [
       "[3,\n",
       " 5,\n",
       " 7,\n",
       " 8,\n",
       " 'hi',\n",
       " 'yes',\n",
       " 'hey',\n",
       " 'hello',\n",
       " ['hi', 'hey', 'hello'],\n",
       " 'yes',\n",
       " 'last']"
      ]
     },
     "execution_count": 101,
     "metadata": {},
     "output_type": "execute_result"
    }
   ],
   "source": [
    "l2  #removed from list"
   ]
  },
  {
   "cell_type": "code",
   "execution_count": 102,
   "id": "769f0862",
   "metadata": {},
   "outputs": [],
   "source": [
    "e=l2.pop(3)"
   ]
  },
  {
   "cell_type": "code",
   "execution_count": 103,
   "id": "3fbc0373",
   "metadata": {},
   "outputs": [
    {
     "data": {
      "text/plain": [
       "8"
      ]
     },
     "execution_count": 103,
     "metadata": {},
     "output_type": "execute_result"
    }
   ],
   "source": [
    "e"
   ]
  },
  {
   "cell_type": "code",
   "execution_count": 108,
   "id": "b456f612",
   "metadata": {},
   "outputs": [
    {
     "data": {
      "text/plain": [
       "[3, 7, 'hi', 'yes', 'hello', ['hi', 'hey', 'hello'], 'yes', 'last']"
      ]
     },
     "execution_count": 108,
     "metadata": {},
     "output_type": "execute_result"
    }
   ],
   "source": [
    "l2"
   ]
  },
  {
   "cell_type": "code",
   "execution_count": 105,
   "id": "151381ad",
   "metadata": {},
   "outputs": [
    {
     "data": {
      "text/plain": [
       "[3, 5, 7, 'hi', 'yes', 'hello', ['hi', 'hey', 'hello'], 'yes', 'last']"
      ]
     },
     "execution_count": 105,
     "metadata": {},
     "output_type": "execute_result"
    }
   ],
   "source": [
    "#remove method\n",
    "#syntax: list.remove(element)\n",
    "l2.remove('hey')\n",
    "l2"
   ]
  },
  {
   "cell_type": "code",
   "execution_count": 109,
   "id": "1c98d6d9",
   "metadata": {},
   "outputs": [
    {
     "data": {
      "text/plain": [
       "[3, 7, 'hi', 'yes', ['hi', 'hey', 'hello'], 'yes', 'last']"
      ]
     },
     "execution_count": 109,
     "metadata": {},
     "output_type": "execute_result"
    }
   ],
   "source": [
    "l2.remove('hello')\n",
    "l2"
   ]
  },
  {
   "cell_type": "code",
   "execution_count": 107,
   "id": "2c88d83e",
   "metadata": {},
   "outputs": [
    {
     "data": {
      "text/plain": [
       "[3, 7, 'hi', 'yes', 'hello', ['hi', 'hey', 'hello'], 'yes', 'last']"
      ]
     },
     "execution_count": 107,
     "metadata": {},
     "output_type": "execute_result"
    }
   ],
   "source": [
    "l2"
   ]
  },
  {
   "cell_type": "code",
   "execution_count": 174,
   "id": "46e79703",
   "metadata": {},
   "outputs": [],
   "source": [
    "l6=[3,5,7,4,2,5,7,6,5,7]"
   ]
  },
  {
   "cell_type": "code",
   "execution_count": 171,
   "id": "b4aa7cef",
   "metadata": {},
   "outputs": [
    {
     "name": "stdout",
     "output_type": "stream",
     "text": [
      "0\n",
      ". 3\n",
      "1\n",
      ". 5\n",
      "2\n",
      ". 4\n",
      "3\n",
      ". 2\n",
      "4\n",
      ". 5\n",
      "5\n",
      ". 6\n",
      "6\n",
      ". 5\n",
      "7\n"
     ]
    },
    {
     "ename": "IndexError",
     "evalue": "list index out of range",
     "output_type": "error",
     "traceback": [
      "\u001b[1;31m---------------------------------------------------------------------------\u001b[0m",
      "\u001b[1;31mIndexError\u001b[0m                                Traceback (most recent call last)",
      "Cell \u001b[1;32mIn[171], line 3\u001b[0m\n\u001b[0;32m      1\u001b[0m \u001b[38;5;28;01mfor\u001b[39;00m i \u001b[38;5;129;01min\u001b[39;00m \u001b[38;5;28mrange\u001b[39m(\u001b[38;5;28mlen\u001b[39m(l6)):\n\u001b[0;32m      2\u001b[0m     \u001b[38;5;28mprint\u001b[39m(i)\n\u001b[1;32m----> 3\u001b[0m     \u001b[38;5;28mprint\u001b[39m(\u001b[38;5;124m'\u001b[39m\u001b[38;5;124m.\u001b[39m\u001b[38;5;124m'\u001b[39m,l6[i])\n\u001b[0;32m      4\u001b[0m     \u001b[38;5;28;01mif\u001b[39;00m(l6[i]\u001b[38;5;241m==\u001b[39m\u001b[38;5;241m5\u001b[39m):\n\u001b[0;32m      5\u001b[0m         l6\u001b[38;5;241m.\u001b[39mremove(l6[i])\n",
      "\u001b[1;31mIndexError\u001b[0m: list index out of range"
     ]
    }
   ],
   "source": [
    "#see error in this code.\n",
    "for i in range(len(l6)):\n",
    "    print(i)\n",
    "    print('.',l6[i])\n",
    "    if(l6[i]==5):\n",
    "        l6.remove(l6[i])\n",
    "print(l6)"
   ]
  },
  {
   "cell_type": "code",
   "execution_count": 178,
   "id": "4af4765e",
   "metadata": {},
   "outputs": [],
   "source": [
    "l6=[3,5,7,4,2,5,7,6,5,7]"
   ]
  },
  {
   "cell_type": "code",
   "execution_count": 177,
   "id": "47e53e4f",
   "metadata": {},
   "outputs": [
    {
     "name": "stdout",
     "output_type": "stream",
     "text": [
      "[3, 7, 4, 2, 7, 6, 7]\n"
     ]
    }
   ],
   "source": [
    "#instead what we can do:\n",
    "#correct logic but more time-consuming.\n",
    "for i in l6:\n",
    "    if i==5:\n",
    "        l6.remove(i)\n",
    "print(l6)"
   ]
  },
  {
   "cell_type": "code",
   "execution_count": 179,
   "id": "c553d3e2",
   "metadata": {},
   "outputs": [
    {
     "name": "stdout",
     "output_type": "stream",
     "text": [
      "[3, 5, 4, 2, 5, 6, 5]\n"
     ]
    }
   ],
   "source": [
    "#or: \n",
    "#this way loop runs only the necessary amt of times.\n",
    "for i in range(l6.count(7)):\n",
    "    l6.remove(7)\n",
    "print(l6)"
   ]
  },
  {
   "cell_type": "code",
   "execution_count": 154,
   "id": "79de0e92",
   "metadata": {},
   "outputs": [],
   "source": [
    "l6.remove(5)   #will only remove first occurrence of element from list"
   ]
  },
  {
   "cell_type": "code",
   "execution_count": 155,
   "id": "62282049",
   "metadata": {},
   "outputs": [
    {
     "data": {
      "text/plain": [
       "[3, 7, 4, 2, 5, 7, 6, 5, 7]"
      ]
     },
     "execution_count": 155,
     "metadata": {},
     "output_type": "execute_result"
    }
   ],
   "source": [
    "l6"
   ]
  },
  {
   "cell_type": "code",
   "execution_count": 113,
   "id": "413bd7c5",
   "metadata": {},
   "outputs": [],
   "source": [
    "w = 'something'"
   ]
  },
  {
   "cell_type": "code",
   "execution_count": 114,
   "id": "1e2eda23",
   "metadata": {},
   "outputs": [],
   "source": [
    "del(w)"
   ]
  },
  {
   "cell_type": "code",
   "execution_count": 115,
   "id": "40168c16",
   "metadata": {},
   "outputs": [
    {
     "ename": "NameError",
     "evalue": "name 'w' is not defined",
     "output_type": "error",
     "traceback": [
      "\u001b[1;31m---------------------------------------------------------------------------\u001b[0m",
      "\u001b[1;31mNameError\u001b[0m                                 Traceback (most recent call last)",
      "Cell \u001b[1;32mIn[115], line 1\u001b[0m\n\u001b[1;32m----> 1\u001b[0m \u001b[38;5;28mprint\u001b[39m(w)\n",
      "\u001b[1;31mNameError\u001b[0m: name 'w' is not defined"
     ]
    }
   ],
   "source": [
    "print(w)"
   ]
  },
  {
   "cell_type": "code",
   "execution_count": 116,
   "id": "122ff3ac",
   "metadata": {},
   "outputs": [],
   "source": [
    "del(l6[3])"
   ]
  },
  {
   "cell_type": "code",
   "execution_count": 117,
   "id": "28615364",
   "metadata": {},
   "outputs": [
    {
     "data": {
      "text/plain": [
       "[3, 7, 4, 5, 7, 6, 5, 7]"
      ]
     },
     "execution_count": 117,
     "metadata": {},
     "output_type": "execute_result"
    }
   ],
   "source": [
    "l6"
   ]
  },
  {
   "cell_type": "code",
   "execution_count": 118,
   "id": "e1a145d7",
   "metadata": {},
   "outputs": [
    {
     "data": {
      "text/plain": [
       "[]"
      ]
     },
     "execution_count": 118,
     "metadata": {},
     "output_type": "execute_result"
    }
   ],
   "source": [
    "l6.clear()  #empties the whole list\n",
    "l6"
   ]
  },
  {
   "cell_type": "code",
   "execution_count": 119,
   "id": "dbf03c79",
   "metadata": {},
   "outputs": [],
   "source": [
    "l6=[3,5,7,4,2,5,7,6,5,7]"
   ]
  },
  {
   "cell_type": "code",
   "execution_count": 120,
   "id": "a13278e6",
   "metadata": {},
   "outputs": [
    {
     "data": {
      "text/plain": [
       "1"
      ]
     },
     "execution_count": 120,
     "metadata": {},
     "output_type": "execute_result"
    }
   ],
   "source": [
    "l6.index(5)"
   ]
  },
  {
   "cell_type": "code",
   "execution_count": 121,
   "id": "ea672f48",
   "metadata": {},
   "outputs": [
    {
     "data": {
      "text/plain": [
       "3"
      ]
     },
     "execution_count": 121,
     "metadata": {},
     "output_type": "execute_result"
    }
   ],
   "source": [
    "l6.count(5)  #counts the no. of times element is present in list"
   ]
  },
  {
   "cell_type": "code",
   "execution_count": 122,
   "id": "c98670dc",
   "metadata": {},
   "outputs": [
    {
     "data": {
      "text/plain": [
       "0"
      ]
     },
     "execution_count": 122,
     "metadata": {},
     "output_type": "execute_result"
    }
   ],
   "source": [
    "l6.count('.')"
   ]
  },
  {
   "cell_type": "code",
   "execution_count": null,
   "id": "d45b6211",
   "metadata": {},
   "outputs": [],
   "source": [
    "#list.(press tab to see all options)"
   ]
  },
  {
   "cell_type": "code",
   "execution_count": 123,
   "id": "c41f47b5",
   "metadata": {},
   "outputs": [
    {
     "data": {
      "text/plain": [
       "[2, 4, 6, 'hi', 'h', 'i']"
      ]
     },
     "execution_count": 123,
     "metadata": {},
     "output_type": "execute_result"
    }
   ],
   "source": [
    "l1"
   ]
  },
  {
   "cell_type": "code",
   "execution_count": 124,
   "id": "fe365069",
   "metadata": {},
   "outputs": [
    {
     "data": {
      "text/plain": [
       "[3, 7, 'hi', 'yes', ['hi', 'hey', 'hello'], 'yes', 'last']"
      ]
     },
     "execution_count": 124,
     "metadata": {},
     "output_type": "execute_result"
    }
   ],
   "source": [
    "l2"
   ]
  },
  {
   "cell_type": "code",
   "execution_count": 126,
   "id": "ba987c3b",
   "metadata": {},
   "outputs": [
    {
     "data": {
      "text/plain": [
       "[2, 4, 6, 'hi', 'h', 'i']"
      ]
     },
     "execution_count": 126,
     "metadata": {},
     "output_type": "execute_result"
    }
   ],
   "source": [
    "l3=l1\n",
    "l3"
   ]
  },
  {
   "cell_type": "code",
   "execution_count": 127,
   "id": "5c6fa538",
   "metadata": {},
   "outputs": [
    {
     "data": {
      "text/plain": [
       "[2, 4, 6, 'hi', 'h', 'i', 10]"
      ]
     },
     "execution_count": 127,
     "metadata": {},
     "output_type": "execute_result"
    }
   ],
   "source": [
    "l3.append(10)\n",
    "l3"
   ]
  },
  {
   "cell_type": "code",
   "execution_count": 128,
   "id": "1714b14a",
   "metadata": {},
   "outputs": [
    {
     "data": {
      "text/plain": [
       "[2, 4, 6, 'hi', 'h', 'i', 10]"
      ]
     },
     "execution_count": 128,
     "metadata": {},
     "output_type": "execute_result"
    }
   ],
   "source": [
    "l1 \n",
    "#even tho l1 was not appended to add the element at the end of the list,\n",
    "#it still happended. This is because when l3=l1 was executed python only\n",
    "#created a mem loc for variable l3 connecting it to the list elements of l1\n",
    "#through a pointer. when l3 was appended the elements were appended and so \n",
    "#l1 was also changed in the similar fashion."
   ]
  },
  {
   "cell_type": "code",
   "execution_count": 130,
   "id": "15e9cdd2",
   "metadata": {},
   "outputs": [
    {
     "data": {
      "text/plain": [
       "[2, 4, 6, 'hi', 'h', 'i', 10]"
      ]
     },
     "execution_count": 130,
     "metadata": {},
     "output_type": "execute_result"
    }
   ],
   "source": [
    "l7=l1.copy()\n",
    "l7"
   ]
  },
  {
   "cell_type": "code",
   "execution_count": 131,
   "id": "6e04bb91",
   "metadata": {},
   "outputs": [],
   "source": [
    "l7.append('yes')"
   ]
  },
  {
   "cell_type": "code",
   "execution_count": 133,
   "id": "8632d494",
   "metadata": {},
   "outputs": [
    {
     "data": {
      "text/plain": [
       "[2, 4, 6, 'hi', 'h', 'i', 10, 'yes']"
      ]
     },
     "execution_count": 133,
     "metadata": {},
     "output_type": "execute_result"
    }
   ],
   "source": [
    "l7"
   ]
  },
  {
   "cell_type": "code",
   "execution_count": 134,
   "id": "743d4890",
   "metadata": {},
   "outputs": [
    {
     "data": {
      "text/plain": [
       "[2, 4, 6, 'hi', 'h', 'i', 10]"
      ]
     },
     "execution_count": 134,
     "metadata": {},
     "output_type": "execute_result"
    }
   ],
   "source": [
    "l1  \n",
    "#remained the same bcoz a sep mem loc was created as in the list was COPIED"
   ]
  },
  {
   "cell_type": "code",
   "execution_count": 135,
   "id": "96eaec8a",
   "metadata": {},
   "outputs": [
    {
     "data": {
      "text/plain": [
       "[3, 5, 7, 4, 2, 5, 7, 6, 5, 7]"
      ]
     },
     "execution_count": 135,
     "metadata": {},
     "output_type": "execute_result"
    }
   ],
   "source": [
    "l6=[3,5,7,4,2,5,7,6,5,7]\n",
    "l6"
   ]
  },
  {
   "cell_type": "code",
   "execution_count": 138,
   "id": "fcc37d8e",
   "metadata": {},
   "outputs": [
    {
     "data": {
      "text/plain": [
       "[7, 5, 6, 7, 5, 2, 4, 7, 5, 3]"
      ]
     },
     "execution_count": 138,
     "metadata": {},
     "output_type": "execute_result"
    }
   ],
   "source": [
    "l6.reverse()    #same as l6[::-1], only this is a way of accessing list in\n",
    "#reverse but the index remains same for the list elements, if we use \n",
    "#.reverse the list is reversed and the index of elements also changes \n",
    "#accordingly.\n",
    "l6"
   ]
  },
  {
   "cell_type": "code",
   "execution_count": 140,
   "id": "d291970e",
   "metadata": {},
   "outputs": [
    {
     "data": {
      "text/plain": [
       "[2, 3, 4, 5, 5, 5, 6, 7, 7, 7]"
      ]
     },
     "execution_count": 140,
     "metadata": {},
     "output_type": "execute_result"
    }
   ],
   "source": [
    "l6.sort()  \n",
    "#for sort, all elements of list should be of same data type\n",
    "l6"
   ]
  },
  {
   "cell_type": "code",
   "execution_count": 142,
   "id": "fb17bf6d",
   "metadata": {},
   "outputs": [
    {
     "data": {
      "text/plain": [
       "[2, 4, 6, 'hi', 'h', 'i', 10]"
      ]
     },
     "execution_count": 142,
     "metadata": {},
     "output_type": "execute_result"
    }
   ],
   "source": [
    "l1"
   ]
  },
  {
   "cell_type": "code",
   "execution_count": 141,
   "id": "4cc186c9",
   "metadata": {},
   "outputs": [
    {
     "ename": "TypeError",
     "evalue": "'<' not supported between instances of 'str' and 'int'",
     "output_type": "error",
     "traceback": [
      "\u001b[1;31m---------------------------------------------------------------------------\u001b[0m",
      "\u001b[1;31mTypeError\u001b[0m                                 Traceback (most recent call last)",
      "Cell \u001b[1;32mIn[141], line 1\u001b[0m\n\u001b[1;32m----> 1\u001b[0m l1\u001b[38;5;241m.\u001b[39msort()\n",
      "\u001b[1;31mTypeError\u001b[0m: '<' not supported between instances of 'str' and 'int'"
     ]
    }
   ],
   "source": [
    "l1.sort()  #error"
   ]
  },
  {
   "cell_type": "code",
   "execution_count": 143,
   "id": "2df3a1a7",
   "metadata": {},
   "outputs": [
    {
     "data": {
      "text/plain": [
       "[7, 7, 7, 6, 5, 5, 5, 4, 3, 2]"
      ]
     },
     "execution_count": 143,
     "metadata": {},
     "output_type": "execute_result"
    }
   ],
   "source": [
    "l6.sort(reverse=True)  \n",
    "#reverse=True gives descending order sorting.\n",
    "#reverse=False is default setting for ascending order sorting.\n",
    "l6"
   ]
  },
  {
   "cell_type": "code",
   "execution_count": 144,
   "id": "c43316f9",
   "metadata": {},
   "outputs": [],
   "source": [
    "l6.sort?"
   ]
  },
  {
   "cell_type": "markdown",
   "id": "43b14fa2",
   "metadata": {},
   "source": [
    "### Operations on Tuple"
   ]
  },
  {
   "cell_type": "code",
   "execution_count": 147,
   "id": "e4522f1d",
   "metadata": {},
   "outputs": [
    {
     "name": "stdout",
     "output_type": "stream",
     "text": [
      "(1, 2, 'hi', 3, 4, 'you')\n",
      "(1, 2, 'hi', 1, 2, 'hi', 1, 2, 'hi')\n",
      "hi\n",
      "2\n",
      "3\n",
      "(2, 'hi', 3)\n",
      "('hi', 3, 4, 'you')\n",
      "('you', 4, 3, 'hi', 2, 1)\n",
      "(1, 'hi', 4)\n"
     ]
    }
   ],
   "source": [
    "#Concatenation\n",
    "#Repetition\n",
    "#Indexing\n",
    "#Slicing\n",
    "#all these work similarly for tuples\n",
    "#examples:\n",
    "t1=(1,2,'hi')\n",
    "t2=(3,4,'you')\n",
    "t3=t1+t2\n",
    "print(t3)\n",
    "print(t1*3)\n",
    "print(t1[2])\n",
    "print(t1[-2])\n",
    "print(t2[0])\n",
    "print(t3[1:4])\n",
    "print(t3[2:])\n",
    "print(t3[::-1])\n",
    "print(t3[::2])"
   ]
  },
  {
   "cell_type": "code",
   "execution_count": 151,
   "id": "21ea23a6",
   "metadata": {},
   "outputs": [
    {
     "name": "stdout",
     "output_type": "stream",
     "text": [
      "2\n",
      "1\n",
      "11\n",
      "2\n"
     ]
    }
   ],
   "source": [
    "#operations such as pop, sort, append, insert, etc are not possible on \n",
    "#tuple because it is immutable. \n",
    "#Only those operations are possible which don't modify the tuple.\n",
    "#examples:\n",
    "print(t3.index('hi'))\n",
    "print(t3.count(2))\n",
    "t4=(8,5,3,9,11,2)\n",
    "print(max(t4)) \n",
    "print(min(t4))"
   ]
  },
  {
   "cell_type": "markdown",
   "id": "0e619c3d",
   "metadata": {},
   "source": [
    "### Operations on Dictionary"
   ]
  },
  {
   "cell_type": "code",
   "execution_count": null,
   "id": "04f1054f",
   "metadata": {},
   "outputs": [],
   "source": [
    "#Concatenation, repetition, Indexing and slicing are not possible in \n",
    "#dictionary."
   ]
  },
  {
   "cell_type": "code",
   "execution_count": 180,
   "id": "560201d3",
   "metadata": {},
   "outputs": [
    {
     "data": {
      "text/plain": [
       "{'Name': 'Ashish', 'City': 'Delhi', 'Age': 30}"
      ]
     },
     "execution_count": 180,
     "metadata": {},
     "output_type": "execute_result"
    }
   ],
   "source": [
    "#Methods in dictionary\n",
    "d={'Name':'Ashish', 'City': 'Delhi', 'Age': 30}\n",
    "d"
   ]
  },
  {
   "cell_type": "code",
   "execution_count": 181,
   "id": "e1172709",
   "metadata": {},
   "outputs": [
    {
     "data": {
      "text/plain": [
       "'Ashish'"
      ]
     },
     "execution_count": 181,
     "metadata": {},
     "output_type": "execute_result"
    }
   ],
   "source": [
    "#Keying\n",
    "d['Name']"
   ]
  },
  {
   "cell_type": "code",
   "execution_count": 182,
   "id": "9a550037",
   "metadata": {},
   "outputs": [
    {
     "ename": "KeyError",
     "evalue": "'Ashish'",
     "output_type": "error",
     "traceback": [
      "\u001b[1;31m---------------------------------------------------------------------------\u001b[0m",
      "\u001b[1;31mKeyError\u001b[0m                                  Traceback (most recent call last)",
      "Cell \u001b[1;32mIn[182], line 1\u001b[0m\n\u001b[1;32m----> 1\u001b[0m d[\u001b[38;5;124m'\u001b[39m\u001b[38;5;124mAshish\u001b[39m\u001b[38;5;124m'\u001b[39m]\n",
      "\u001b[1;31mKeyError\u001b[0m: 'Ashish'"
     ]
    }
   ],
   "source": [
    "d['Ashish']  #this is bcoz values are mapped to keys but not vice-versa."
   ]
  },
  {
   "cell_type": "code",
   "execution_count": 187,
   "id": "8374f51f",
   "metadata": {},
   "outputs": [
    {
     "name": "stdout",
     "output_type": "stream",
     "text": [
      "None\n"
     ]
    }
   ],
   "source": [
    "#but doing this will give us output as None.\n",
    "print(d.get('Ashish'))"
   ]
  },
  {
   "cell_type": "code",
   "execution_count": 183,
   "id": "dc1bca0c",
   "metadata": {},
   "outputs": [],
   "source": [
    "d['City']='Pune' #keys cannot be changed tho"
   ]
  },
  {
   "cell_type": "code",
   "execution_count": 184,
   "id": "b3b13361",
   "metadata": {},
   "outputs": [
    {
     "data": {
      "text/plain": [
       "{'Name': 'Ashish', 'City': 'Pune', 'Age': 30}"
      ]
     },
     "execution_count": 184,
     "metadata": {},
     "output_type": "execute_result"
    }
   ],
   "source": [
    "d"
   ]
  },
  {
   "cell_type": "code",
   "execution_count": 188,
   "id": "36199194",
   "metadata": {},
   "outputs": [],
   "source": [
    "d.update({'City':'Delhi',\"Score\": 90})"
   ]
  },
  {
   "cell_type": "code",
   "execution_count": 189,
   "id": "0cd2ddd3",
   "metadata": {},
   "outputs": [
    {
     "data": {
      "text/plain": [
       "{'Name': 'Ashish', 'City': 'Delhi', 'Age': 30, 'Score': 90}"
      ]
     },
     "execution_count": 189,
     "metadata": {},
     "output_type": "execute_result"
    }
   ],
   "source": [
    "d"
   ]
  },
  {
   "cell_type": "code",
   "execution_count": 190,
   "id": "ab33e119",
   "metadata": {},
   "outputs": [
    {
     "data": {
      "text/plain": [
       "'Delhi'"
      ]
     },
     "execution_count": 190,
     "metadata": {},
     "output_type": "execute_result"
    }
   ],
   "source": [
    "d.setdefault('City','Pune')  \n",
    "#returned the current value instead of updating it"
   ]
  },
  {
   "cell_type": "code",
   "execution_count": 191,
   "id": "f694200f",
   "metadata": {},
   "outputs": [
    {
     "data": {
      "text/plain": [
       "{'Name': 'Ashish', 'City': 'Delhi', 'Age': 30, 'Score': 90}"
      ]
     },
     "execution_count": 191,
     "metadata": {},
     "output_type": "execute_result"
    }
   ],
   "source": [
    "d"
   ]
  },
  {
   "cell_type": "code",
   "execution_count": 192,
   "id": "8edb0628",
   "metadata": {},
   "outputs": [
    {
     "data": {
      "text/plain": [
       "'UP'"
      ]
     },
     "execution_count": 192,
     "metadata": {},
     "output_type": "execute_result"
    }
   ],
   "source": [
    "d.setdefault('State','UP')   #can only be done for a single item"
   ]
  },
  {
   "cell_type": "code",
   "execution_count": 193,
   "id": "48e129c3",
   "metadata": {},
   "outputs": [
    {
     "data": {
      "text/plain": [
       "{'Name': 'Ashish', 'City': 'Delhi', 'Age': 30, 'Score': 90, 'State': 'UP'}"
      ]
     },
     "execution_count": 193,
     "metadata": {},
     "output_type": "execute_result"
    }
   ],
   "source": [
    "d"
   ]
  },
  {
   "cell_type": "code",
   "execution_count": 194,
   "id": "5abc1ff7",
   "metadata": {},
   "outputs": [
    {
     "data": {
      "text/plain": [
       "'Delhi'"
      ]
     },
     "execution_count": 194,
     "metadata": {},
     "output_type": "execute_result"
    }
   ],
   "source": [
    "d.pop('City') "
   ]
  },
  {
   "cell_type": "code",
   "execution_count": 195,
   "id": "3066407b",
   "metadata": {},
   "outputs": [
    {
     "data": {
      "text/plain": [
       "{'Name': 'Ashish', 'Age': 30, 'Score': 90, 'State': 'UP'}"
      ]
     },
     "execution_count": 195,
     "metadata": {},
     "output_type": "execute_result"
    }
   ],
   "source": [
    "d"
   ]
  },
  {
   "cell_type": "code",
   "execution_count": 196,
   "id": "3a4df746",
   "metadata": {},
   "outputs": [],
   "source": [
    "del d['Age']\n",
    "#diff b/w pop and del is tht pop returns whatever value you're popping, \n",
    "#but del doesn't. you can assign the popped out value to a variable but \n",
    "#not the deleted value."
   ]
  },
  {
   "cell_type": "code",
   "execution_count": 197,
   "id": "7eb9ad13",
   "metadata": {},
   "outputs": [
    {
     "data": {
      "text/plain": [
       "{'Name': 'Ashish', 'Score': 90, 'State': 'UP'}"
      ]
     },
     "execution_count": 197,
     "metadata": {},
     "output_type": "execute_result"
    }
   ],
   "source": [
    "d"
   ]
  },
  {
   "cell_type": "code",
   "execution_count": null,
   "id": "05271733",
   "metadata": {},
   "outputs": [],
   "source": [
    "#copy and clear methods work same for dictionary as it does for list"
   ]
  },
  {
   "cell_type": "code",
   "execution_count": 200,
   "id": "7a919f7d",
   "metadata": {},
   "outputs": [
    {
     "data": {
      "text/plain": [
       "dict_keys(['Name', 'Score', 'State'])"
      ]
     },
     "execution_count": 200,
     "metadata": {},
     "output_type": "execute_result"
    }
   ],
   "source": [
    "dk=d.keys()\n",
    "dk"
   ]
  },
  {
   "cell_type": "code",
   "execution_count": 201,
   "id": "6ea9d201",
   "metadata": {},
   "outputs": [
    {
     "ename": "TypeError",
     "evalue": "'dict_keys' object is not subscriptable",
     "output_type": "error",
     "traceback": [
      "\u001b[1;31m---------------------------------------------------------------------------\u001b[0m",
      "\u001b[1;31mTypeError\u001b[0m                                 Traceback (most recent call last)",
      "Cell \u001b[1;32mIn[201], line 1\u001b[0m\n\u001b[1;32m----> 1\u001b[0m dk[\u001b[38;5;241m0\u001b[39m]\n",
      "\u001b[1;31mTypeError\u001b[0m: 'dict_keys' object is not subscriptable"
     ]
    }
   ],
   "source": [
    "dk[0] #list form but not indexes are not present."
   ]
  },
  {
   "cell_type": "code",
   "execution_count": 202,
   "id": "18c29919",
   "metadata": {},
   "outputs": [
    {
     "data": {
      "text/plain": [
       "['Name', 'Score', 'State']"
      ]
     },
     "execution_count": 202,
     "metadata": {},
     "output_type": "execute_result"
    }
   ],
   "source": [
    "ldk=list(d.keys())\n",
    "ldk"
   ]
  },
  {
   "cell_type": "code",
   "execution_count": 203,
   "id": "831567cd",
   "metadata": {},
   "outputs": [
    {
     "data": {
      "text/plain": [
       "['Ashish', 90, 'UP']"
      ]
     },
     "execution_count": 203,
     "metadata": {},
     "output_type": "execute_result"
    }
   ],
   "source": [
    "list(d.values())"
   ]
  },
  {
   "cell_type": "code",
   "execution_count": 204,
   "id": "793854ba",
   "metadata": {},
   "outputs": [
    {
     "data": {
      "text/plain": [
       "[('Name', 'Ashish'), ('Score', 90), ('State', 'UP')]"
      ]
     },
     "execution_count": 204,
     "metadata": {},
     "output_type": "execute_result"
    }
   ],
   "source": [
    "list(d.items())   #key:value pairs in tuples"
   ]
  },
  {
   "cell_type": "code",
   "execution_count": 205,
   "id": "6ddb3c07",
   "metadata": {},
   "outputs": [],
   "source": [
    "#max(d) and min(d) compare keys on basis of their ASCII values"
   ]
  },
  {
   "cell_type": "code",
   "execution_count": 207,
   "id": "5eb8f604",
   "metadata": {},
   "outputs": [
    {
     "data": {
      "text/plain": [
       "{1: 'hi', 2: 'hi', 3: 'hi'}"
      ]
     },
     "execution_count": 207,
     "metadata": {},
     "output_type": "execute_result"
    }
   ],
   "source": [
    "l=[1,2,3]\n",
    "k='hi'\n",
    "d2=dict.fromkeys(l,k)\n",
    "d2"
   ]
  },
  {
   "cell_type": "code",
   "execution_count": 208,
   "id": "8285a359",
   "metadata": {},
   "outputs": [
    {
     "data": {
      "text/plain": [
       "(3, 'hi')"
      ]
     },
     "execution_count": 208,
     "metadata": {},
     "output_type": "execute_result"
    }
   ],
   "source": [
    "#Syntax: dictionary.popitem removes the last inserted item from the dictionary.\n",
    "d2.popitem()"
   ]
  },
  {
   "cell_type": "code",
   "execution_count": 209,
   "id": "dd1bab6f",
   "metadata": {},
   "outputs": [
    {
     "data": {
      "text/plain": [
       "{1: 'hi', 2: 'hi'}"
      ]
     },
     "execution_count": 209,
     "metadata": {},
     "output_type": "execute_result"
    }
   ],
   "source": [
    "d2"
   ]
  },
  {
   "cell_type": "code",
   "execution_count": null,
   "id": "9e4d4d37",
   "metadata": {},
   "outputs": [],
   "source": []
  }
 ],
 "metadata": {
  "kernelspec": {
   "display_name": "Python 3 (ipykernel)",
   "language": "python",
   "name": "python3"
  },
  "language_info": {
   "codemirror_mode": {
    "name": "ipython",
    "version": 3
   },
   "file_extension": ".py",
   "mimetype": "text/x-python",
   "name": "python",
   "nbconvert_exporter": "python",
   "pygments_lexer": "ipython3",
   "version": "3.11.5"
  }
 },
 "nbformat": 4,
 "nbformat_minor": 5
}
