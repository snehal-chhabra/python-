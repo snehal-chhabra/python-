{
 "cells": [
  {
   "cell_type": "markdown",
   "id": "1636ffca",
   "metadata": {},
   "source": [
    "## Tuple"
   ]
  },
  {
   "cell_type": "code",
   "execution_count": 4,
   "id": "d540e189",
   "metadata": {},
   "outputs": [
    {
     "data": {
      "text/plain": [
       "{1: 2, ('hi', 45): ['hi', 54]}"
      ]
     },
     "execution_count": 4,
     "metadata": {},
     "output_type": "execute_result"
    }
   ],
   "source": [
    "d1={1:2,('hi',45):['hi',54]}\n",
    "d1"
   ]
  },
  {
   "cell_type": "code",
   "execution_count": 5,
   "id": "0cf72e78",
   "metadata": {},
   "outputs": [
    {
     "ename": "TypeError",
     "evalue": "unhashable type: 'list'",
     "output_type": "error",
     "traceback": [
      "\u001b[1;31m---------------------------------------------------------------------------\u001b[0m",
      "\u001b[1;31mTypeError\u001b[0m                                 Traceback (most recent call last)",
      "Cell \u001b[1;32mIn[5], line 1\u001b[0m\n\u001b[1;32m----> 1\u001b[0m d1\u001b[38;5;241m=\u001b[39m{\u001b[38;5;241m1\u001b[39m:\u001b[38;5;241m2\u001b[39m,(\u001b[38;5;124m'\u001b[39m\u001b[38;5;124mhi\u001b[39m\u001b[38;5;124m'\u001b[39m,\u001b[38;5;241m45\u001b[39m):[\u001b[38;5;124m'\u001b[39m\u001b[38;5;124mhi\u001b[39m\u001b[38;5;124m'\u001b[39m,\u001b[38;5;241m54\u001b[39m],[\u001b[38;5;124m'\u001b[39m\u001b[38;5;124myou\u001b[39m\u001b[38;5;124m'\u001b[39m]:\u001b[38;5;241m44\u001b[39m}\n",
      "\u001b[1;31mTypeError\u001b[0m: unhashable type: 'list'"
     ]
    }
   ],
   "source": [
    "d1={1:2,('hi',45):['hi',54],['you']:44}"
   ]
  },
  {
   "cell_type": "code",
   "execution_count": 6,
   "id": "4649c2ac",
   "metadata": {},
   "outputs": [
    {
     "data": {
      "text/plain": [
       "{'Name': 'Abdul', 'City': 'Delhi', 'Age': 30, 3: 'hi'}"
      ]
     },
     "execution_count": 6,
     "metadata": {},
     "output_type": "execute_result"
    }
   ],
   "source": [
    "d={'Name':'Abdul','City':'Delhi','Age':30, 3:'hi'}\n",
    "d"
   ]
  },
  {
   "cell_type": "code",
   "execution_count": 7,
   "id": "495e1256",
   "metadata": {},
   "outputs": [
    {
     "data": {
      "text/plain": [
       "{'Name': 'Abdul', 'City': 'Delhi', 'Age': 30, 3: 'hello'}"
      ]
     },
     "execution_count": 7,
     "metadata": {},
     "output_type": "execute_result"
    }
   ],
   "source": [
    "d[3]='hello'\n",
    "d"
   ]
  },
  {
   "cell_type": "code",
   "execution_count": 8,
   "id": "a840e4f6",
   "metadata": {},
   "outputs": [
    {
     "data": {
      "text/plain": [
       "{'Name': 'Harsh', 'City': 'Delhi', 'State': 'Delhi'}"
      ]
     },
     "execution_count": 8,
     "metadata": {},
     "output_type": "execute_result"
    }
   ],
   "source": [
    "d2={'Name':'Abdul','Name':'Harsh','City':'Delhi','State':'Delhi'}\n",
    "d2"
   ]
  },
  {
   "cell_type": "code",
   "execution_count": 9,
   "id": "d6ab6a53",
   "metadata": {},
   "outputs": [
    {
     "data": {
      "text/plain": [
       "{'Name': ['Abdul', 'Harsh'], 'City': 'Delhi', 'State': 'Delhi'}"
      ]
     },
     "execution_count": 9,
     "metadata": {},
     "output_type": "execute_result"
    }
   ],
   "source": [
    "d3={'Name':['Abdul','Harsh'],'City':'Delhi','State':'Delhi'}\n",
    "d3"
   ]
  },
  {
   "cell_type": "code",
   "execution_count": 10,
   "id": "0d911455",
   "metadata": {},
   "outputs": [
    {
     "data": {
      "text/plain": [
       "{1, 2, 4, 5, 6, 8, 9}"
      ]
     },
     "execution_count": 10,
     "metadata": {},
     "output_type": "execute_result"
    }
   ],
   "source": [
    "sett={1,2,4,2,5,8,1,8,5,9,6}\n",
    "sett       #ascending hashing used here by python"
   ]
  },
  {
   "cell_type": "code",
   "execution_count": 17,
   "id": "b581f1f3",
   "metadata": {},
   "outputs": [
    {
     "name": "stdout",
     "output_type": "stream",
     "text": [
      "23.0\n",
      "23\n",
      "<class 'str'>\n"
     ]
    },
    {
     "data": {
      "text/plain": [
       "82"
      ]
     },
     "execution_count": 17,
     "metadata": {},
     "output_type": "execute_result"
    }
   ],
   "source": [
    "#type_casting\n",
    "i=23\n",
    "f1=float(i)\n",
    "print(f1)\n",
    "s=str(i)\n",
    "print(s)\n",
    "print(type(s))\n",
    "f=82.56\n",
    "int(f)\n"
   ]
  },
  {
   "cell_type": "code",
   "execution_count": 18,
   "id": "8e1dc8d0",
   "metadata": {},
   "outputs": [
    {
     "data": {
      "text/plain": [
       "89.63"
      ]
     },
     "execution_count": 18,
     "metadata": {},
     "output_type": "execute_result"
    }
   ],
   "source": [
    "s2='89.63'\n",
    "float(s2)"
   ]
  },
  {
   "cell_type": "code",
   "execution_count": 19,
   "id": "ac785068",
   "metadata": {},
   "outputs": [
    {
     "ename": "ValueError",
     "evalue": "invalid literal for int() with base 10: '89.63'",
     "output_type": "error",
     "traceback": [
      "\u001b[1;31m---------------------------------------------------------------------------\u001b[0m",
      "\u001b[1;31mValueError\u001b[0m                                Traceback (most recent call last)",
      "Cell \u001b[1;32mIn[19], line 1\u001b[0m\n\u001b[1;32m----> 1\u001b[0m \u001b[38;5;28mint\u001b[39m(s2)\n",
      "\u001b[1;31mValueError\u001b[0m: invalid literal for int() with base 10: '89.63'"
     ]
    }
   ],
   "source": [
    "int(s2) #error here"
   ]
  },
  {
   "cell_type": "code",
   "execution_count": 20,
   "id": "17e63c1f",
   "metadata": {},
   "outputs": [
    {
     "data": {
      "text/plain": [
       "89"
      ]
     },
     "execution_count": 20,
     "metadata": {},
     "output_type": "execute_result"
    }
   ],
   "source": [
    "int(float(s2))"
   ]
  },
  {
   "cell_type": "code",
   "execution_count": 21,
   "id": "d4c27e44",
   "metadata": {},
   "outputs": [
    {
     "data": {
      "text/plain": [
       "['2', '3']"
      ]
     },
     "execution_count": 21,
     "metadata": {},
     "output_type": "execute_result"
    }
   ],
   "source": [
    "list(s)"
   ]
  },
  {
   "cell_type": "code",
   "execution_count": 24,
   "id": "3412b529",
   "metadata": {},
   "outputs": [
    {
     "data": {
      "text/plain": [
       "['8', '9', '.', '6', '3']"
      ]
     },
     "execution_count": 24,
     "metadata": {},
     "output_type": "execute_result"
    }
   ],
   "source": [
    "l=list(s2)\n",
    "l"
   ]
  },
  {
   "cell_type": "code",
   "execution_count": 23,
   "id": "7d8c0eaf",
   "metadata": {},
   "outputs": [
    {
     "data": {
      "text/plain": [
       "('8', '9', '.', '6', '3')"
      ]
     },
     "execution_count": 23,
     "metadata": {},
     "output_type": "execute_result"
    }
   ],
   "source": [
    "tuple(s2)"
   ]
  },
  {
   "cell_type": "code",
   "execution_count": 25,
   "id": "c426f037",
   "metadata": {},
   "outputs": [
    {
     "data": {
      "text/plain": [
       "\"['8', '9', '.', '6', '3']\""
      ]
     },
     "execution_count": 25,
     "metadata": {},
     "output_type": "execute_result"
    }
   ],
   "source": [
    "str(l)"
   ]
  },
  {
   "cell_type": "code",
   "execution_count": 26,
   "id": "360de4ba",
   "metadata": {},
   "outputs": [
    {
     "data": {
      "text/plain": [
       "'8'"
      ]
     },
     "execution_count": 26,
     "metadata": {},
     "output_type": "execute_result"
    }
   ],
   "source": [
    "str(l[0])"
   ]
  },
  {
   "cell_type": "code",
   "execution_count": 27,
   "id": "fdf627d0",
   "metadata": {},
   "outputs": [
    {
     "data": {
      "text/plain": [
       "'['"
      ]
     },
     "execution_count": 27,
     "metadata": {},
     "output_type": "execute_result"
    }
   ],
   "source": [
    "str(l)[0]"
   ]
  },
  {
   "cell_type": "code",
   "execution_count": 30,
   "id": "c72e40b7",
   "metadata": {},
   "outputs": [
    {
     "data": {
      "text/plain": [
       "25"
      ]
     },
     "execution_count": 30,
     "metadata": {},
     "output_type": "execute_result"
    }
   ],
   "source": [
    "a=str(l) #not used\n",
    "len(a)\n"
   ]
  },
  {
   "cell_type": "code",
   "execution_count": 33,
   "id": "6bc68e19",
   "metadata": {},
   "outputs": [
    {
     "data": {
      "text/plain": [
       "['Name', 'City', 'Age', 3]"
      ]
     },
     "execution_count": 33,
     "metadata": {},
     "output_type": "execute_result"
    }
   ],
   "source": [
    " list(d)"
   ]
  },
  {
   "cell_type": "code",
   "execution_count": 32,
   "id": "8ef91183",
   "metadata": {},
   "outputs": [
    {
     "data": {
      "text/plain": [
       "['Name', 'City', 'Age', 3]"
      ]
     },
     "execution_count": 32,
     "metadata": {},
     "output_type": "execute_result"
    }
   ],
   "source": [
    "list(d.keys())"
   ]
  },
  {
   "cell_type": "code",
   "execution_count": 34,
   "id": "f660efb4",
   "metadata": {},
   "outputs": [
    {
     "data": {
      "text/plain": [
       "['Abdul', 'Delhi', 30, 'hello']"
      ]
     },
     "execution_count": 34,
     "metadata": {},
     "output_type": "execute_result"
    }
   ],
   "source": [
    "list(d.values())"
   ]
  },
  {
   "cell_type": "code",
   "execution_count": 35,
   "id": "249cbf2d",
   "metadata": {},
   "outputs": [
    {
     "data": {
      "text/plain": [
       "[('Name', 'Abdul'), ('City', 'Delhi'), ('Age', 30), (3, 'hello')]"
      ]
     },
     "execution_count": 35,
     "metadata": {},
     "output_type": "execute_result"
    }
   ],
   "source": [
    "list(d.items())  #stored in tuples"
   ]
  },
  {
   "cell_type": "code",
   "execution_count": 36,
   "id": "d41829e7",
   "metadata": {},
   "outputs": [
    {
     "data": {
      "text/plain": [
       "False"
      ]
     },
     "execution_count": 36,
     "metadata": {},
     "output_type": "execute_result"
    }
   ],
   "source": [
    "bool(0)"
   ]
  },
  {
   "cell_type": "code",
   "execution_count": 37,
   "id": "06dba04f",
   "metadata": {},
   "outputs": [
    {
     "data": {
      "text/plain": [
       "False"
      ]
     },
     "execution_count": 37,
     "metadata": {},
     "output_type": "execute_result"
    }
   ],
   "source": [
    "bool(None)"
   ]
  },
  {
   "cell_type": "code",
   "execution_count": 38,
   "id": "c2801df9",
   "metadata": {},
   "outputs": [
    {
     "ename": "NameError",
     "evalue": "name 'none' is not defined",
     "output_type": "error",
     "traceback": [
      "\u001b[1;31m---------------------------------------------------------------------------\u001b[0m",
      "\u001b[1;31mNameError\u001b[0m                                 Traceback (most recent call last)",
      "Cell \u001b[1;32mIn[38], line 1\u001b[0m\n\u001b[1;32m----> 1\u001b[0m \u001b[38;5;28mbool\u001b[39m(none)\n",
      "\u001b[1;31mNameError\u001b[0m: name 'none' is not defined"
     ]
    }
   ],
   "source": [
    "bool(none)  #error"
   ]
  },
  {
   "cell_type": "code",
   "execution_count": 39,
   "id": "dc4bc84d",
   "metadata": {},
   "outputs": [
    {
     "data": {
      "text/plain": [
       "True"
      ]
     },
     "execution_count": 39,
     "metadata": {},
     "output_type": "execute_result"
    }
   ],
   "source": [
    "bool(a)   #anything other than 0 or None gives true"
   ]
  },
  {
   "cell_type": "code",
   "execution_count": 40,
   "id": "2adc6c85",
   "metadata": {},
   "outputs": [
    {
     "data": {
      "text/plain": [
       "True"
      ]
     },
     "execution_count": 40,
     "metadata": {},
     "output_type": "execute_result"
    }
   ],
   "source": [
    "bool('0')"
   ]
  },
  {
   "cell_type": "code",
   "execution_count": 41,
   "id": "209b5a95",
   "metadata": {},
   "outputs": [],
   "source": [
    "# OPERATORS \n",
    "# arithmetic:   + - * / // ** %\n",
    "# assignment:   =, +=, -=, /=, //=,**=, %=\n",
    "# comparison:  < > <= >= == !=\n",
    "# logical:    and, or, not\n",
    "# bitwise:   |(bitwise OR), &(bitwise AND), ^(bitwise XOR)\n",
    "#  * XOR- if both the i/p are diff then and only then o/p will be true, \n",
    "#         otherwise false\n",
    "# identity:   is, is not\n",
    "# membership:   in, not in\n",
    "#  * used to check if a data vale is a member of a given sequence/collection\n",
    "#    or not\n",
    "#  * in case of lists strings tuples etc. this works to check if the member \n",
    "#    is  a part of the sequence/collection but in case of a dictionary only\n",
    "#    keys can be checked to know if they are membes or not, since values \n",
    "#    are mapped by keys they cant be accessed using these operators."
   ]
  },
  {
   "cell_type": "code",
   "execution_count": 43,
   "id": "efa6700b",
   "metadata": {},
   "outputs": [
    {
     "name": "stderr",
     "output_type": "stream",
     "text": [
      "<>:3: SyntaxWarning: \"is\" with a literal. Did you mean \"==\"?\n",
      "<>:3: SyntaxWarning: \"is\" with a literal. Did you mean \"==\"?\n",
      "C:\\Users\\HP\\AppData\\Local\\Temp\\ipykernel_10448\\3709046780.py:3: SyntaxWarning: \"is\" with a literal. Did you mean \"==\"?\n",
      "  x is 7\n"
     ]
    },
    {
     "data": {
      "text/plain": [
       "True"
      ]
     },
     "execution_count": 43,
     "metadata": {},
     "output_type": "execute_result"
    }
   ],
   "source": [
    "x=7\n",
    "y='hey'\n",
    "x is 7"
   ]
  },
  {
   "cell_type": "code",
   "execution_count": 45,
   "id": "1d324f85",
   "metadata": {},
   "outputs": [
    {
     "name": "stderr",
     "output_type": "stream",
     "text": [
      "<>:1: SyntaxWarning: \"is\" with a literal. Did you mean \"==\"?\n",
      "<>:1: SyntaxWarning: \"is\" with a literal. Did you mean \"==\"?\n",
      "C:\\Users\\HP\\AppData\\Local\\Temp\\ipykernel_10448\\1303708282.py:1: SyntaxWarning: \"is\" with a literal. Did you mean \"==\"?\n",
      "  y is 'hey'\n"
     ]
    },
    {
     "data": {
      "text/plain": [
       "True"
      ]
     },
     "execution_count": 45,
     "metadata": {},
     "output_type": "execute_result"
    }
   ],
   "source": [
    "y is 'hey'"
   ]
  },
  {
   "cell_type": "code",
   "execution_count": 46,
   "id": "8836b69b",
   "metadata": {},
   "outputs": [
    {
     "ename": "SyntaxError",
     "evalue": "invalid syntax (1463850040.py, line 3)",
     "output_type": "error",
     "traceback": [
      "\u001b[1;36m  Cell \u001b[1;32mIn[46], line 3\u001b[1;36m\u001b[0m\n\u001b[1;33m    task(s) that need to be done if condition evaluates to True\u001b[0m\n\u001b[1;37m            ^\u001b[0m\n\u001b[1;31mSyntaxError\u001b[0m\u001b[1;31m:\u001b[0m invalid syntax\n"
     ]
    }
   ],
   "source": [
    "## conditional statements\n",
    "if condition/booleanConstraint:\n",
    "    task(s) that need to be done if condition evaluates to True\n",
    "else:   #optional\n",
    "    task(s) that need to be done if condition evaluates to False\n",
    "(the space is called indentation represents block of code)\n"
   ]
  },
  {
   "cell_type": "code",
   "execution_count": 49,
   "id": "75ee4981",
   "metadata": {},
   "outputs": [
    {
     "name": "stdout",
     "output_type": "stream",
     "text": [
      "Enter marks: 85\n",
      "Grade B\n"
     ]
    }
   ],
   "source": [
    "##Grading System\n",
    "#NESTED IF STATEMENT\n",
    "marks=int(input('Enter marks: '))\n",
    "\n",
    "if marks > 90:\n",
    "    print('Grade A')\n",
    "else:\n",
    "    if marks > 80 and marks <= 90:\n",
    "        print('Grade B')\n",
    "    else:\n",
    "        if marks > 70 and marks <=80:\n",
    "            print('Grade C')\n",
    "        else:\n",
    "            print('Failed')          \n",
    "                "
   ]
  },
  {
   "cell_type": "code",
   "execution_count": null,
   "id": "7ca92da4",
   "metadata": {},
   "outputs": [],
   "source": [
    "#same thing as above, works the same as well \n",
    "if marks > 90:\n",
    "    print('Grade A')\n",
    "elif marks > 80 and marks <= 90:\n",
    "    print('Grade B')\n",
    "elif marks > 70 and marks <=80:\n",
    "    print('Grade C')\n",
    "else:\n",
    "    print('Failed')          "
   ]
  },
  {
   "cell_type": "code",
   "execution_count": null,
   "id": "f41840a8",
   "metadata": {},
   "outputs": [],
   "source": [
    "#LADDER IF STATEMENT\n",
    "if marks > 90:\n",
    "    print('Grade A')\n",
    "if marks > 80 and marks <= 90:\n",
    "    print('Grade B')\n",
    "if marks > 70 and marks <=80:\n",
    "    print('Grade C')           "
   ]
  },
  {
   "cell_type": "code",
   "execution_count": null,
   "id": "f0e1f09c",
   "metadata": {},
   "outputs": [],
   "source": [
    "\n",
    "marks= int(input('Enter marks: '))\n",
    "if marks > 90:\n",
    "    print('You get a cycle.')\n",
    "else:\n",
    "    print('You don''t get a cycle.')\n",
    "    \n",
    "#SHORTHAND NOTATION OR TERNARY OPERATOR\n",
    "marks= int(input('Enter marks: '))\n",
    "print('You get a cycle.') if (marks > 90) else print('You don''t get a cycle.')\n"
   ]
  },
  {
   "cell_type": "code",
   "execution_count": null,
   "id": "ce07ad07",
   "metadata": {},
   "outputs": [],
   "source": []
  }
 ],
 "metadata": {
  "kernelspec": {
   "display_name": "Python 3 (ipykernel)",
   "language": "python",
   "name": "python3"
  },
  "language_info": {
   "codemirror_mode": {
    "name": "ipython",
    "version": 3
   },
   "file_extension": ".py",
   "mimetype": "text/x-python",
   "name": "python",
   "nbconvert_exporter": "python",
   "pygments_lexer": "ipython3",
   "version": "3.11.5"
  }
 },
 "nbformat": 4,
 "nbformat_minor": 5
}
