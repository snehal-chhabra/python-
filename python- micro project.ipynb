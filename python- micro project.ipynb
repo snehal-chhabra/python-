{
 "cells": [
  {
   "cell_type": "code",
   "execution_count": 1,
   "id": "c4e8af82",
   "metadata": {},
   "outputs": [],
   "source": [
    "#lambda function for variable dictionary\n",
    "l= lambda **y: print(y)"
   ]
  },
  {
   "cell_type": "code",
   "execution_count": 2,
   "id": "4b78e7d2",
   "metadata": {},
   "outputs": [
    {
     "name": "stdout",
     "output_type": "stream",
     "text": [
      "{'Name': 'Some', 'Age': 12}\n"
     ]
    }
   ],
   "source": [
    "l(Name='Some', Age=12)"
   ]
  },
  {
   "cell_type": "code",
   "execution_count": 17,
   "id": "a061f22c",
   "metadata": {},
   "outputs": [
    {
     "name": "stdout",
     "output_type": "stream",
     "text": [
      "Enter valid email...\n",
      "    Press 0 to stop.\n"
     ]
    }
   ],
   "source": [
    "s='ABcd231gmail.com'\n",
    "# for i in s:\n",
    "#     if i.isnumeric() == True:\n",
    "#         print(ord(i))\n",
    "if '@' not in s:\n",
    "    print('''Enter valid email...\n",
    "    Press 0 to stop.''')\n",
    "else:\n",
    "    print('okay')"
   ]
  },
  {
   "cell_type": "markdown",
   "id": "fcde9a6c",
   "metadata": {},
   "source": [
    "### micro-project in python- backend"
   ]
  },
  {
   "cell_type": "code",
   "execution_count": 3,
   "id": "16229819",
   "metadata": {},
   "outputs": [],
   "source": [
    "#REGISTRATION & LOGIN SYSTEM\n",
    "#Username and Password"
   ]
  },
  {
   "cell_type": "code",
   "execution_count": 12,
   "id": "08a3679b",
   "metadata": {},
   "outputs": [],
   "source": [
    "d2={'Harsh': 'Qwerty@123', 'Paras': 'Kaggle#567'}\n"
   ]
  },
  {
   "cell_type": "code",
   "execution_count": 1,
   "id": "79ea337b",
   "metadata": {},
   "outputs": [],
   "source": [
    "d={'Harsh':{'Password':'Qwerty@123','Phone': '9283977366',\n",
    "            'SecQues': {'What was my high-school name?':'Delhi public school', \n",
    "                       'What animal was my first pet?':'cat'}}}\n"
   ]
  },
  {
   "cell_type": "code",
   "execution_count": null,
   "id": "7ba70da2",
   "metadata": {},
   "outputs": [],
   "source": [
    "def createOTP():\n",
    "    from random import randint\n",
    "    return randint(1000,9999)"
   ]
  },
  {
   "cell_type": "code",
   "execution_count": null,
   "id": "acd65f15",
   "metadata": {},
   "outputs": [],
   "source": [
    "def sendMessage(msg):\n",
    "    pass\n",
    "    #twilio or something else to sms using python code google it"
   ]
  },
  {
   "cell_type": "code",
   "execution_count": null,
   "id": "e376a48d",
   "metadata": {},
   "outputs": [],
   "source": [
    "def sendMail(msg):\n",
    "    pass"
   ]
  },
  {
   "cell_type": "code",
   "execution_count": null,
   "id": "6a92db10",
   "metadata": {},
   "outputs": [],
   "source": [
    "def sendOtpPhone():\n",
    "    otp = createOTP()\n",
    "    sendMessage(otp)\n",
    "    "
   ]
  },
  {
   "cell_type": "code",
   "execution_count": null,
   "id": "46711e3e",
   "metadata": {},
   "outputs": [],
   "source": [
    "def sendOtpEmail():\n",
    "    otp= createOTP()\n",
    "    sendMail(otp)"
   ]
  },
  {
   "cell_type": "code",
   "execution_count": 13,
   "id": "041c69eb",
   "metadata": {},
   "outputs": [],
   "source": [
    "For password strength:\n",
    "#Length > 8\n",
    "#combination of upper and lower case alphabets\n",
    "#combination of alphanumeric and special characters\n",
    "#strong, medium,weak"
   ]
  },
  {
   "cell_type": "code",
   "execution_count": null,
   "id": "901151f5",
   "metadata": {},
   "outputs": [],
   "source": [
    "def forgotPassword(user):\n",
    "    resfp2 = input('''Press 1 if you want to use registered phone number to login\n",
    "    Press 2 if you want to use registered email id to login\n",
    "    or Press 3 if you want to answer your security questions...''')\n",
    "    "
   ]
  },
  {
   "cell_type": "code",
   "execution_count": null,
   "id": "8a14f204",
   "metadata": {},
   "outputs": [
    {
     "name": "stdout",
     "output_type": "stream",
     "text": [
      "\n",
      "Enter your Choice:\n",
      "    Press R for Registration\n",
      "    Press L for Login\n",
      "    Press E to Exit\n",
      "    : r\n",
      "\n",
      "Welcome to Registration Portal!\n",
      "Enter new Username: Priyanka\n",
      "Enter a strong password \n",
      "                (Minimum 9 characters, combination of alphanumeric and special characters\n",
      "                & at least one uppercase character) : #Priyanka12\n",
      "Confirm your password: #Priyanka12\n",
      "Enter your phone number: 838847\n",
      "Phone number should be 10 digits...\n",
      "                    Press 0 to stop.\n",
      "Enter your phone number: 7373927abc\n",
      "Phone number should be 10 digits...\n",
      "                    Press 0 to stop.\n",
      "Enter your phone number: 8979837448\n",
      "Enter your email: hahahehe@gmail.com\n",
      "Enter your first security question: what is your favourite colour?\n",
      "Enter your ans: universe blue\n",
      "Enter your second security question: what is your favourite planet?\n",
      "Enter your ans: saturn\n",
      "Registration Successful!\n",
      "\n",
      "Enter your Choice:\n",
      "    Press R for Registration\n",
      "    Press L for Login\n",
      "    Press E to Exit\n",
      "    : r\n",
      "\n",
      "Welcome to Registration Portal!\n",
      "Enter new Username: priyanka\n",
      "Username already exists. Please try again...\n",
      "            Press 0 to stop\n",
      "            or \n",
      "To try log-in if you are already a user, press 1. Else, press 0 to try again.1\n",
      "\n",
      "Welcome to Login Portal!\n",
      "Enter your Username: priyanka\n",
      "Enter your Password: sd\n",
      "Incorrect Password. Please try again...\n",
      "                          You have 2 attempts left.\n",
      "Enter your Password: ss\n",
      "Incorrect Password. Please try again...\n",
      "                          You have 1 attempts left.\n",
      "Enter your Password: ss\n",
      "Incorrect Password. Please try again...\n",
      "                          You have 0 attempts left.\n",
      "\n",
      "Welcome to Registration Portal!\n"
     ]
    }
   ],
   "source": [
    "def checkPasswordStrength(password):\n",
    "    #spch= '!#$%&@_'\n",
    "    nmch='abcdefghijklmnopqrstuvwxyzABCDEFGHIJKLMNOPQRSTUVWXYZ0123456789'\n",
    "    if (len(password) < 9 or len(password) > 25):\n",
    "        print('Password length should be at least 9 characters...')\n",
    "        return 'no'\n",
    "    cu=0\n",
    "    cl=0\n",
    "    cn=0\n",
    "    cs=0\n",
    "    for i in password:\n",
    "        if(i.isdigit() == True):\n",
    "            cn+=1\n",
    "        if(ord(i)>64 and ord(i)<91):\n",
    "            cu+=1\n",
    "        if(ord(i)>95 and ord(i)<122):\n",
    "            cl+=1\n",
    "        if(i not in nmch):\n",
    "            cs+=1\n",
    "    if(cu == 0 or cl == 0):\n",
    "        print('Password should contain at least one uppercase and one lowercase character...')\n",
    "        return 'no'\n",
    "    elif(cn == 0):\n",
    "        print(\" Password should contain both alphabets and numeric characters...\")\n",
    "        return 'no'\n",
    "    elif (cs == 0):\n",
    "        print(\" Password should contain at least one special character...\")\n",
    "        return 'no'\n",
    "    else:\n",
    "        return 'yes'\n",
    "    \n",
    "    \n",
    "def register():\n",
    "    while(True):\n",
    "        print('\\nWelcome to Registration Portal!')\n",
    "        regUser = input('Enter new Username: ').capitalize()\n",
    "        if regUser == '0':\n",
    "            return 'Failed.'\n",
    "        if regUser not in d:\n",
    "            \n",
    "            #password strength\n",
    "            while(True):\n",
    "                regPass = input('''Enter a strong password \n",
    "                (Minimum 9 characters, combination of alphanumeric and special characters\n",
    "                & at least one uppercase character) : ''')\n",
    "                if regPass == '0':\n",
    "                    return 'Failed.'\n",
    "                response= checkPasswordStrength(regPass)\n",
    "                if(response == 'yes'):\n",
    "                    break\n",
    "                print('Enter 0 to stop.')\n",
    "            \n",
    "            #confirmPassword- do it here no func needed\n",
    "            while(True):\n",
    "                cnfPass= input('Confirm your password: ')\n",
    "                if cnfPass == '0':\n",
    "                    return 'Failed.'\n",
    "                if cnfPass == regPass:\n",
    "                    d.update({regUser:{'Password':regPass}})    #or d[regUser] = regPass\n",
    "                    break\n",
    "                else:\n",
    "                    print('''Password entered is not the same. Please try again...\n",
    "                          Press 0 to stop''')\n",
    "                    \n",
    "            #takePhoneNumber and mail here only\n",
    "            while(True):\n",
    "                phNum = input('Enter your phone number: ')\n",
    "                if phNum == '0':\n",
    "                    return 'Failed.'\n",
    "                if (phNum.isnumeric()== False or len(phNum) != 10):\n",
    "                    print('''Phone number should be 10 digits...\n",
    "                    Press 0 to stop.''')\n",
    "                else:\n",
    "                    break\n",
    "            while(True):\n",
    "                email = input('Enter your email: ')\n",
    "                if email == '0':\n",
    "                    return 'Failed.'\n",
    "                if '@' not in email:\n",
    "                    print('''Enter valid email...\n",
    "                    Press 0 to stop.''')\n",
    "                else:\n",
    "                    break\n",
    "                    \n",
    "             #securityQuestion() -at least 2 questions\n",
    "            ques1 = input('Enter your first security question: ')\n",
    "            ans1 = input('Enter your ans: ')\n",
    "            ques2 = input('Enter your second security question: ')\n",
    "            ans2 = input('Enter your ans: ')\n",
    "            \n",
    "            d.update({regUser:{'Phone':phNum, 'Email': email, 'SecQues':{ques1: ans1, ques2: ans2}}})\n",
    "            \n",
    "            #sendOtpPhone()\n",
    "            #sendOtpEmail()\n",
    "            return 'Successful!'\n",
    "        else:\n",
    "            print('''Username already exists. Please try again...\n",
    "            Press 0 to stop\n",
    "            or ''')\n",
    "            res= input('To try log-in if you are already a user, press 1. Else, press 0 to try again.')\n",
    "            if res == '1':\n",
    "                login()\n",
    "\n",
    "\n",
    "def login():\n",
    "    print('\\nWelcome to Login Portal!')\n",
    "    while(True):\n",
    "        logUser = input('Enter your Username: ').capitalize()\n",
    "        if logUser == '0':\n",
    "            return 'Failed.'\n",
    "        if logUser in d:\n",
    "            chance = 3\n",
    "            while(chance):\n",
    "                logPass = input('Enter your Password: ')\n",
    "                if d[logUser] == logPass:\n",
    "                    \n",
    "                    #changePassword()\n",
    "                    rescp = input('Enter yes if you want to change password, otherwise enter no. ').lower()\n",
    "                    if rescp == 'yes':\n",
    "                        while(True):\n",
    "                            newPass = input('''Enter a strong password \n",
    "                            (Minimum 9 characters, combination of alphanumeric and special characters\n",
    "                            & at least one uppercase character) : ''')\n",
    "                            if newPass == '0':\n",
    "                                break\n",
    "                            response1= checkPasswordStrength(newPass)\n",
    "                            if(response1 == 'yes'):\n",
    "                                break\n",
    "                            print('Enter 0 to stop.')\n",
    "                        while(True):\n",
    "                            if newPass == '0':\n",
    "                                break\n",
    "                            cnfPass1= input('Confirm your password: ')\n",
    "                            if cnfPass1 == '0':\n",
    "                                break\n",
    "                            if cnfPass1 == newPass:\n",
    "                                d.update({logUser:{'Password':newPass}})    #or d[regUser] = regPass\n",
    "                                break\n",
    "                            else:\n",
    "                                print('''Password entered is not the same. Please try again...\n",
    "                                      Press 0 to stop''')\n",
    "                        \n",
    "                    return 'Successful!'\n",
    "                else:\n",
    "                    chance -= 1\n",
    "                    print(f'''Incorrect Password. Please try again...\n",
    "                          You have {chance} attempts left.''') \n",
    "                    \n",
    "                    #forgotPassword\n",
    "                    resfp = input('Enter 1 if you forgot password: ')\n",
    "                    if(resfp == '1'):\n",
    "                        forgotPassword(logUser)\n",
    "                        \n",
    "            return 'Failed'\n",
    "        else: \n",
    "            print('''Username not registered. Please try again...\n",
    "             Press 0 to stop\n",
    "             or ''')\n",
    "            #register if not a user use register()\n",
    "            \n",
    "\n",
    "while(True):    \n",
    "    mode= input('''\\nEnter your Choice:\n",
    "    Press R for Registration\n",
    "    Press L for Login\n",
    "    Press E to Exit\n",
    "    : ''').upper()   #directly changing input's case to uppercase\n",
    "\n",
    "    if mode == 'R':   #or mode == 'r'\n",
    "        print('Registration', register())\n",
    "        \n",
    "    elif mode == 'L':\n",
    "        print('Login', login())\n",
    "        \n",
    "    elif mode == 'E':\n",
    "        print('Thank you for using our Services.')\n",
    "        break\n",
    "    else:\n",
    "        print('Please enter a valid input...')"
   ]
  },
  {
   "cell_type": "code",
   "execution_count": null,
   "id": "c9781403",
   "metadata": {},
   "outputs": [],
   "source": [
    "d"
   ]
  },
  {
   "cell_type": "code",
   "execution_count": 13,
   "id": "17a82aed",
   "metadata": {},
   "outputs": [
    {
     "data": {
      "text/plain": [
       "{'Harsh': 'qwerty@123', 'Paras': 'kaggle#567'}"
      ]
     },
     "execution_count": 13,
     "metadata": {},
     "output_type": "execute_result"
    }
   ],
   "source": []
  },
  {
   "cell_type": "code",
   "execution_count": null,
   "id": "aa468eb6",
   "metadata": {},
   "outputs": [],
   "source": []
  }
 ],
 "metadata": {
  "kernelspec": {
   "display_name": "Python 3 (ipykernel)",
   "language": "python",
   "name": "python3"
  },
  "language_info": {
   "codemirror_mode": {
    "name": "ipython",
    "version": 3
   },
   "file_extension": ".py",
   "mimetype": "text/x-python",
   "name": "python",
   "nbconvert_exporter": "python",
   "pygments_lexer": "ipython3",
   "version": "3.11.5"
  }
 },
 "nbformat": 4,
 "nbformat_minor": 5
}
