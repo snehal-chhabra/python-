{
 "cells": [
  {
   "cell_type": "markdown",
   "id": "7d142b46",
   "metadata": {},
   "source": [
    "### Iterators"
   ]
  },
  {
   "cell_type": "markdown",
   "id": "f0ecb026",
   "metadata": {},
   "source": [
    "•an object that contains a countable number of values.\n",
    "\n",
    "•an object that can be iterated upon, ie, you can traverse through all the values\n",
    "\n",
    "•in python, it is an object which implements the iterator protocol, which consists of the methods iter() and next()\n",
    "\n",
    "•iterator object is initialized using the iter() method\n",
    "\n",
    "•uses the next() method for iteration"
   ]
  },
  {
   "cell_type": "code",
   "execution_count": 1,
   "id": "b0cad96d",
   "metadata": {},
   "outputs": [],
   "source": [
    "#string, list, dictionary all of them are iterable, not iterators.\n",
    "l=[1,2,3,4,0]"
   ]
  },
  {
   "cell_type": "code",
   "execution_count": 2,
   "id": "4a858427",
   "metadata": {},
   "outputs": [
    {
     "ename": "TypeError",
     "evalue": "'list' object is not an iterator",
     "output_type": "error",
     "traceback": [
      "\u001b[1;31m---------------------------------------------------------------------------\u001b[0m",
      "\u001b[1;31mTypeError\u001b[0m                                 Traceback (most recent call last)",
      "Cell \u001b[1;32mIn[2], line 1\u001b[0m\n\u001b[1;32m----> 1\u001b[0m \u001b[38;5;28mnext\u001b[39m(l)\n",
      "\u001b[1;31mTypeError\u001b[0m: 'list' object is not an iterator"
     ]
    }
   ],
   "source": [
    "next(l) "
   ]
  },
  {
   "cell_type": "code",
   "execution_count": 3,
   "id": "d4eef07b",
   "metadata": {},
   "outputs": [
    {
     "data": {
      "text/plain": [
       "<list_iterator at 0x1f2581c40d0>"
      ]
     },
     "execution_count": 3,
     "metadata": {},
     "output_type": "execute_result"
    }
   ],
   "source": [
    "il = iter(l)\n",
    "il"
   ]
  },
  {
   "cell_type": "code",
   "execution_count": 4,
   "id": "1d0e3c4d",
   "metadata": {},
   "outputs": [
    {
     "data": {
      "text/plain": [
       "1"
      ]
     },
     "execution_count": 4,
     "metadata": {},
     "output_type": "execute_result"
    }
   ],
   "source": [
    "next(il)"
   ]
  },
  {
   "cell_type": "markdown",
   "id": "e48a32d7",
   "metadata": {},
   "source": [
    "This is the use of iterators. using a for loop, you get all elements one by one at once but in case you need them one by one in betweeen multiple lines of code you can simply use next() method whenever needed.\n",
    "\n",
    "Although you cannot go backward or to a previous iterator using next()\n",
    "\n",
    "If you want to do that you will have to create iter again using iter() method and start from the beginning."
   ]
  },
  {
   "cell_type": "code",
   "execution_count": 5,
   "id": "e775983f",
   "metadata": {},
   "outputs": [
    {
     "data": {
      "text/plain": [
       "2"
      ]
     },
     "execution_count": 5,
     "metadata": {},
     "output_type": "execute_result"
    }
   ],
   "source": [
    "next(il)"
   ]
  },
  {
   "cell_type": "code",
   "execution_count": 6,
   "id": "6cb8e2b6",
   "metadata": {},
   "outputs": [
    {
     "data": {
      "text/plain": [
       "3"
      ]
     },
     "execution_count": 6,
     "metadata": {},
     "output_type": "execute_result"
    }
   ],
   "source": [
    "next(il)"
   ]
  },
  {
   "cell_type": "code",
   "execution_count": 7,
   "id": "25a5df9a",
   "metadata": {},
   "outputs": [
    {
     "data": {
      "text/plain": [
       "4"
      ]
     },
     "execution_count": 7,
     "metadata": {},
     "output_type": "execute_result"
    }
   ],
   "source": [
    "next(il)"
   ]
  },
  {
   "cell_type": "code",
   "execution_count": 8,
   "id": "ff1f0a02",
   "metadata": {},
   "outputs": [
    {
     "data": {
      "text/plain": [
       "0"
      ]
     },
     "execution_count": 8,
     "metadata": {},
     "output_type": "execute_result"
    }
   ],
   "source": [
    "next(il)"
   ]
  },
  {
   "cell_type": "code",
   "execution_count": 9,
   "id": "ed673a21",
   "metadata": {},
   "outputs": [
    {
     "ename": "StopIteration",
     "evalue": "",
     "output_type": "error",
     "traceback": [
      "\u001b[1;31m---------------------------------------------------------------------------\u001b[0m",
      "\u001b[1;31mStopIteration\u001b[0m                             Traceback (most recent call last)",
      "Cell \u001b[1;32mIn[9], line 1\u001b[0m\n\u001b[1;32m----> 1\u001b[0m \u001b[38;5;28mnext\u001b[39m(il)\n",
      "\u001b[1;31mStopIteration\u001b[0m: "
     ]
    }
   ],
   "source": [
    "next(il)  #no more elements to iterate upon"
   ]
  },
  {
   "cell_type": "code",
   "execution_count": 10,
   "id": "76ee26c2",
   "metadata": {},
   "outputs": [
    {
     "name": "stdout",
     "output_type": "stream",
     "text": [
      "1\n",
      "2\n",
      "3\n",
      "4\n",
      "0\n"
     ]
    }
   ],
   "source": [
    "for x in l:\n",
    "    print(x)"
   ]
  },
  {
   "cell_type": "code",
   "execution_count": 13,
   "id": "3d4b507d",
   "metadata": {},
   "outputs": [
    {
     "name": "stdout",
     "output_type": "stream",
     "text": [
      "1\n",
      "2\n",
      "3\n",
      "4\n",
      "0\n"
     ]
    },
    {
     "ename": "StopIteration",
     "evalue": "",
     "output_type": "error",
     "traceback": [
      "\u001b[1;31m---------------------------------------------------------------------------\u001b[0m",
      "\u001b[1;31mStopIteration\u001b[0m                             Traceback (most recent call last)",
      "Cell \u001b[1;32mIn[13], line 3\u001b[0m\n\u001b[0;32m      1\u001b[0m il \u001b[38;5;241m=\u001b[39m \u001b[38;5;28miter\u001b[39m(l)\n\u001b[0;32m      2\u001b[0m \u001b[38;5;28;01mwhile\u001b[39;00m(\u001b[38;5;28;01mTrue\u001b[39;00m):\n\u001b[1;32m----> 3\u001b[0m     \u001b[38;5;28mprint\u001b[39m(\u001b[38;5;28mnext\u001b[39m(il))\n",
      "\u001b[1;31mStopIteration\u001b[0m: "
     ]
    }
   ],
   "source": [
    "il = iter(l)\n",
    "while(True):\n",
    "    print(next(il))"
   ]
  },
  {
   "cell_type": "code",
   "execution_count": 14,
   "id": "c8d8cb0a",
   "metadata": {},
   "outputs": [
    {
     "name": "stdout",
     "output_type": "stream",
     "text": [
      "1\n",
      "2\n",
      "3\n",
      "4\n",
      "0\n"
     ]
    }
   ],
   "source": [
    "#this is actually the backend of for loop.\n",
    "il = iter(l)\n",
    "while(True):\n",
    "    try:\n",
    "        print(next(il))\n",
    "    except StopIteration:\n",
    "        break"
   ]
  },
  {
   "cell_type": "code",
   "execution_count": 15,
   "id": "1ff73c34",
   "metadata": {},
   "outputs": [
    {
     "data": {
      "text/plain": [
       "<str_ascii_iterator at 0x1f25803cd30>"
      ]
     },
     "execution_count": 15,
     "metadata": {},
     "output_type": "execute_result"
    }
   ],
   "source": [
    "s='hello'\n",
    "si=iter(s)\n",
    "si"
   ]
  },
  {
   "cell_type": "code",
   "execution_count": 23,
   "id": "abcb0e49",
   "metadata": {},
   "outputs": [
    {
     "data": {
      "text/plain": [
       "'End'"
      ]
     },
     "execution_count": 23,
     "metadata": {},
     "output_type": "execute_result"
    }
   ],
   "source": [
    "next(si, 'End')"
   ]
  },
  {
   "cell_type": "markdown",
   "id": "46b3f308",
   "metadata": {},
   "source": [
    "### GENERATOR FUNCTION\n",
    "\n",
    "A generator function is defined like a normal function, but whenever it needs to generate a value, it does so with the yield keyword rather than return.\n",
    "\n",
    "if a body of a def contains yield, the function automatically becomes a genertor function.\n",
    "\n",
    "A generator has parameter, which we can call and it generates a  sequence of numbers.\n",
    "\n",
    "But unlike other functions, which return a whole array, a generator yields one value at a time which requires less memory."
   ]
  },
  {
   "cell_type": "markdown",
   "id": "9e3d8f38",
   "metadata": {},
   "source": [
    "#### Yield Statement"
   ]
  },
  {
   "cell_type": "code",
   "execution_count": 24,
   "id": "a342be10",
   "metadata": {},
   "outputs": [],
   "source": [
    "def some():\n",
    "    print(1)\n",
    "    print(2)\n",
    "    return\n",
    "    print(3)"
   ]
  },
  {
   "cell_type": "code",
   "execution_count": 25,
   "id": "abcfe2c4",
   "metadata": {},
   "outputs": [
    {
     "name": "stdout",
     "output_type": "stream",
     "text": [
      "1\n",
      "2\n"
     ]
    }
   ],
   "source": [
    "some()"
   ]
  },
  {
   "cell_type": "markdown",
   "id": "85a39ed4",
   "metadata": {},
   "source": [
    "The yield statement suspends function's execution and sends a value back to the caller, but retains enough state to enable fnction to resume where it left off.\n",
    "\n",
    "When resumed, the function continues execution immediately after the last yield run.\n",
    "\n",
    "This allows its code to produce a series of values over time, rather than computing them at once and sending them back like a list.\n"
   ]
  },
  {
   "cell_type": "code",
   "execution_count": 26,
   "id": "0ff65b39",
   "metadata": {},
   "outputs": [],
   "source": [
    "def someone():\n",
    "    print(1)\n",
    "    yield 'hi'\n",
    "    print(2)\n",
    "    yield 'hello'\n",
    "    print(3)\n",
    "    return\n",
    "    print(4)"
   ]
  },
  {
   "cell_type": "code",
   "execution_count": 27,
   "id": "19effef3",
   "metadata": {},
   "outputs": [
    {
     "data": {
      "text/plain": [
       "<generator object someone at 0x000001F258CBEB00>"
      ]
     },
     "execution_count": 27,
     "metadata": {},
     "output_type": "execute_result"
    }
   ],
   "source": [
    "someone()  #as soon as yo write a yield statement inside a func def, it \n",
    "#becomes a generator function. and that can't be called like this."
   ]
  },
  {
   "cell_type": "code",
   "execution_count": 28,
   "id": "72fcb26e",
   "metadata": {},
   "outputs": [
    {
     "name": "stdout",
     "output_type": "stream",
     "text": [
      "1\n",
      "hi\n",
      "2\n",
      "hello\n",
      "3\n"
     ]
    }
   ],
   "source": [
    "for i in someone():  #this is how you call a generator function.\n",
    "    print(i)    \n",
    "#it's called a generator function. because it generates a list of things \n",
    "#over time."
   ]
  },
  {
   "cell_type": "code",
   "execution_count": 29,
   "id": "840c3938",
   "metadata": {},
   "outputs": [
    {
     "data": {
      "text/plain": [
       "<generator object someone at 0x000001F258CBE8C0>"
      ]
     },
     "execution_count": 29,
     "metadata": {},
     "output_type": "execute_result"
    }
   ],
   "source": [
    "isome = iter(someone())\n",
    "isome"
   ]
  },
  {
   "cell_type": "code",
   "execution_count": 30,
   "id": "28483f5e",
   "metadata": {},
   "outputs": [
    {
     "name": "stdout",
     "output_type": "stream",
     "text": [
      "1\n"
     ]
    },
    {
     "data": {
      "text/plain": [
       "'hi'"
      ]
     },
     "execution_count": 30,
     "metadata": {},
     "output_type": "execute_result"
    }
   ],
   "source": [
    "next(isome)"
   ]
  },
  {
   "cell_type": "code",
   "execution_count": 31,
   "id": "4e21d073",
   "metadata": {},
   "outputs": [
    {
     "name": "stdout",
     "output_type": "stream",
     "text": [
      "2\n"
     ]
    },
    {
     "data": {
      "text/plain": [
       "'hello'"
      ]
     },
     "execution_count": 31,
     "metadata": {},
     "output_type": "execute_result"
    }
   ],
   "source": [
    "next(isome)"
   ]
  },
  {
   "cell_type": "code",
   "execution_count": 32,
   "id": "7327492a",
   "metadata": {},
   "outputs": [
    {
     "name": "stdout",
     "output_type": "stream",
     "text": [
      "3\n"
     ]
    },
    {
     "ename": "StopIteration",
     "evalue": "",
     "output_type": "error",
     "traceback": [
      "\u001b[1;31m---------------------------------------------------------------------------\u001b[0m",
      "\u001b[1;31mStopIteration\u001b[0m                             Traceback (most recent call last)",
      "Cell \u001b[1;32mIn[32], line 1\u001b[0m\n\u001b[1;32m----> 1\u001b[0m \u001b[38;5;28mnext\u001b[39m(isome)\n",
      "\u001b[1;31mStopIteration\u001b[0m: "
     ]
    }
   ],
   "source": [
    "next(isome)"
   ]
  },
  {
   "cell_type": "code",
   "execution_count": 33,
   "id": "6cf5fcac",
   "metadata": {},
   "outputs": [
    {
     "name": "stdout",
     "output_type": "stream",
     "text": [
      "0\n",
      "1\n",
      "2\n",
      "3\n",
      "4\n"
     ]
    }
   ],
   "source": [
    "n = 5    #n = 5000\n",
    "rn = range(n)\n",
    "\n",
    "for i in rn:   #if n is 5000 rn will take a lot of memory space\n",
    "    print(i)"
   ]
  },
  {
   "cell_type": "code",
   "execution_count": 35,
   "id": "5846713d",
   "metadata": {},
   "outputs": [
    {
     "name": "stdout",
     "output_type": "stream",
     "text": [
      "1\n",
      "2\n",
      "3\n",
      "4\n",
      "5\n"
     ]
    }
   ],
   "source": [
    "#instead: in this code, takes more time but uses less memory space\n",
    "def genfunc(n):\n",
    "    num=1\n",
    "    while True:\n",
    "        yield num \n",
    "        if num == n:\n",
    "            return\n",
    "        else: num += 1\n",
    "\n",
    "n = 5\n",
    "for i in genfunc(n):\n",
    "    print(i)"
   ]
  },
  {
   "cell_type": "markdown",
   "id": "276c4c86",
   "metadata": {},
   "source": [
    "### File Handling\n",
    "\n",
    "-Refers to the handling of files present in the system using a python program."
   ]
  },
  {
   "cell_type": "markdown",
   "id": "17aeb241",
   "metadata": {},
   "source": [
    "- read mode\n",
    "  - r\n",
    "  - rb\n",
    "  - r+\n",
    "  - rb+\n",
    "- write mode\n",
    "  - w\n",
    "  - wb\n",
    "  - w+\n",
    "  - wb+\n",
    "- append mode\n",
    "  - a\n",
    "  - ab\n",
    "  - a+\n",
    "  - ab+"
   ]
  },
  {
   "cell_type": "markdown",
   "id": "3b31361a",
   "metadata": {},
   "source": [
    "r:\n",
    "opens a file for reading only. The file pointer is placed at the beginning of the file. This is the default mode.\n",
    "\n",
    "rb:\n",
    "opens a file for reading only in binary format. The file pointer is placed at the beginning of the file. This is the default mode.\n",
    "\n",
    "r+:\n",
    "opens a file for both reading and writing. The file pointer is placed at the beginning of the file.\n",
    "\n",
    "rb+:\n",
    "opens a file for both reading and writing in binary format. The file pointer is placed at the beginning of the file.\n",
    "\n",
    "w:\n",
    "opens a file for writing only. Overwrites the file if the file exists. If the file does not exist, creates a new file for writing.\n",
    "\n",
    "wb:\n",
    "opens a file for writing only in binary format. Overwrites the file if the file exists. If the file does not exist, creates a new file for writing.\n",
    "\n",
    "w+:\n",
    "opens a file for both reading and writing. Overwrites the file if the file exists. If the file does not exist, creates a new file for reading and writing.\n",
    "\n",
    "wb+:\n",
    "opens a file for both reading and writing in binary format. Overwrites the file if the file exists. If the file does not exist, creates a new file for reading and writing.\n",
    "\n",
    "a:\n",
    "opens a file for appending. The file pointer is at the end of the file if the file exists. That is, the file is in the append mode. If the file does not exist, creates a new file for writing.\n",
    "\n",
    "ab:\n",
    "opens a file for appending in binary format. The file pointer is at the end of the file if the file exists. That is, the file is in the append mode. If the file does not exist, creates a new file for writing.\n",
    "\n",
    "a+:\n",
    "opens a file for both reading and appending. The file pointer is at the end of the file if the file exists. The file opens in the append mode.  If the file does not exist, creates a new file for reading and writing.\n",
    "\n",
    "ab+:\n",
    "opens a file for both reading and appending in binary format. The file pointer is at the end of the file if the file exists. The file opens in the append mode.  If the file does not exist, creates a new file for reading and writing."
   ]
  },
  {
   "cell_type": "code",
   "execution_count": 1,
   "id": "312d131f",
   "metadata": {},
   "outputs": [
    {
     "ename": "FileNotFoundError",
     "evalue": "[Errno 2] No such file or directory: 'some.txt'",
     "output_type": "error",
     "traceback": [
      "\u001b[1;31m---------------------------------------------------------------------------\u001b[0m",
      "\u001b[1;31mFileNotFoundError\u001b[0m                         Traceback (most recent call last)",
      "Cell \u001b[1;32mIn[1], line 1\u001b[0m\n\u001b[1;32m----> 1\u001b[0m fo \u001b[38;5;241m=\u001b[39m \u001b[38;5;28mopen\u001b[39m(\u001b[38;5;124m'\u001b[39m\u001b[38;5;124msome.txt\u001b[39m\u001b[38;5;124m'\u001b[39m, \u001b[38;5;124m'\u001b[39m\u001b[38;5;124mr\u001b[39m\u001b[38;5;124m'\u001b[39m)  \n\u001b[0;32m      2\u001b[0m fo\n",
      "File \u001b[1;32m~\\anaconda3\\Lib\\site-packages\\IPython\\core\\interactiveshell.py:286\u001b[0m, in \u001b[0;36m_modified_open\u001b[1;34m(file, *args, **kwargs)\u001b[0m\n\u001b[0;32m    279\u001b[0m \u001b[38;5;28;01mif\u001b[39;00m file \u001b[38;5;129;01min\u001b[39;00m {\u001b[38;5;241m0\u001b[39m, \u001b[38;5;241m1\u001b[39m, \u001b[38;5;241m2\u001b[39m}:\n\u001b[0;32m    280\u001b[0m     \u001b[38;5;28;01mraise\u001b[39;00m \u001b[38;5;167;01mValueError\u001b[39;00m(\n\u001b[0;32m    281\u001b[0m         \u001b[38;5;124mf\u001b[39m\u001b[38;5;124m\"\u001b[39m\u001b[38;5;124mIPython won\u001b[39m\u001b[38;5;124m'\u001b[39m\u001b[38;5;124mt let you open fd=\u001b[39m\u001b[38;5;132;01m{\u001b[39;00mfile\u001b[38;5;132;01m}\u001b[39;00m\u001b[38;5;124m by default \u001b[39m\u001b[38;5;124m\"\u001b[39m\n\u001b[0;32m    282\u001b[0m         \u001b[38;5;124m\"\u001b[39m\u001b[38;5;124mas it is likely to crash IPython. If you know what you are doing, \u001b[39m\u001b[38;5;124m\"\u001b[39m\n\u001b[0;32m    283\u001b[0m         \u001b[38;5;124m\"\u001b[39m\u001b[38;5;124myou can use builtins\u001b[39m\u001b[38;5;124m'\u001b[39m\u001b[38;5;124m open.\u001b[39m\u001b[38;5;124m\"\u001b[39m\n\u001b[0;32m    284\u001b[0m     )\n\u001b[1;32m--> 286\u001b[0m \u001b[38;5;28;01mreturn\u001b[39;00m io_open(file, \u001b[38;5;241m*\u001b[39margs, \u001b[38;5;241m*\u001b[39m\u001b[38;5;241m*\u001b[39mkwargs)\n",
      "\u001b[1;31mFileNotFoundError\u001b[0m: [Errno 2] No such file or directory: 'some.txt'"
     ]
    }
   ],
   "source": [
    "fo = open('some.txt', 'r')  \n",
    "fo\n",
    "#'r' is there by default even if i dont mention it"
   ]
  },
  {
   "cell_type": "code",
   "execution_count": 2,
   "id": "10954ffc",
   "metadata": {},
   "outputs": [
    {
     "data": {
      "text/plain": [
       "'C:\\\\Users\\\\HP\\\\0DS Learnbay'"
      ]
     },
     "execution_count": 2,
     "metadata": {},
     "output_type": "execute_result"
    }
   ],
   "source": [
    "#import os\n",
    "#os.getcwd()"
   ]
  },
  {
   "cell_type": "code",
   "execution_count": 2,
   "id": "0ec2941b",
   "metadata": {},
   "outputs": [
    {
     "data": {
      "text/plain": [
       "<_io.TextIOWrapper name='somefile' mode='r' encoding='cp1252'>"
      ]
     },
     "execution_count": 2,
     "metadata": {},
     "output_type": "execute_result"
    }
   ],
   "source": [
    "fo = open('somefile', 'r')\n",
    "fo"
   ]
  },
  {
   "cell_type": "code",
   "execution_count": 1,
   "id": "5a957cd8",
   "metadata": {},
   "outputs": [],
   "source": [
    "fo1= open('textfile.txt', 'r')"
   ]
  },
  {
   "cell_type": "code",
   "execution_count": 2,
   "id": "1526432c",
   "metadata": {},
   "outputs": [
    {
     "data": {
      "text/plain": [
       "<_io.TextIOWrapper name='textfile.txt' mode='r' encoding='cp1252'>"
      ]
     },
     "execution_count": 2,
     "metadata": {},
     "output_type": "execute_result"
    }
   ],
   "source": [
    "fo1"
   ]
  },
  {
   "cell_type": "code",
   "execution_count": 5,
   "id": "4b31e870",
   "metadata": {},
   "outputs": [
    {
     "data": {
      "text/plain": [
       "'r'"
      ]
     },
     "execution_count": 5,
     "metadata": {},
     "output_type": "execute_result"
    }
   ],
   "source": [
    "fo1.mode"
   ]
  },
  {
   "cell_type": "code",
   "execution_count": 6,
   "id": "63b01492",
   "metadata": {},
   "outputs": [
    {
     "data": {
      "text/plain": [
       "'textfile.txt'"
      ]
     },
     "execution_count": 6,
     "metadata": {},
     "output_type": "execute_result"
    }
   ],
   "source": [
    "fo1.name"
   ]
  },
  {
   "cell_type": "code",
   "execution_count": 19,
   "id": "13734004",
   "metadata": {},
   "outputs": [
    {
     "data": {
      "text/plain": [
       "False"
      ]
     },
     "execution_count": 19,
     "metadata": {},
     "output_type": "execute_result"
    }
   ],
   "source": [
    "fo1.closed"
   ]
  },
  {
   "cell_type": "code",
   "execution_count": 13,
   "id": "8435fee6",
   "metadata": {},
   "outputs": [
    {
     "ename": "UnsupportedOperation",
     "evalue": "not writable",
     "output_type": "error",
     "traceback": [
      "\u001b[1;31m---------------------------------------------------------------------------\u001b[0m",
      "\u001b[1;31mUnsupportedOperation\u001b[0m                      Traceback (most recent call last)",
      "Cell \u001b[1;32mIn[13], line 1\u001b[0m\n\u001b[1;32m----> 1\u001b[0m fo1\u001b[38;5;241m.\u001b[39mwrite(\u001b[38;5;124m'\u001b[39m\u001b[38;5;124myes\u001b[39m\u001b[38;5;124m'\u001b[39m)\n",
      "\u001b[1;31mUnsupportedOperation\u001b[0m: not writable"
     ]
    }
   ],
   "source": [
    "fo1.write('yes')"
   ]
  },
  {
   "cell_type": "code",
   "execution_count": 3,
   "id": "9acb009f",
   "metadata": {},
   "outputs": [
    {
     "data": {
      "text/plain": [
       "'Hello this is snehal learning file handling in Python.\\nwhat is happening'"
      ]
     },
     "execution_count": 3,
     "metadata": {},
     "output_type": "execute_result"
    }
   ],
   "source": [
    "fo1.read() \n",
    "#if nothing is mentioned, reads from the current location of file pointer \n",
    "#to the end of file"
   ]
  },
  {
   "cell_type": "code",
   "execution_count": 3,
   "id": "a5bd2fde",
   "metadata": {},
   "outputs": [
    {
     "data": {
      "text/plain": [
       "'Hello'"
      ]
     },
     "execution_count": 3,
     "metadata": {},
     "output_type": "execute_result"
    }
   ],
   "source": [
    "fo1.read(5) #from current position till position 5"
   ]
  },
  {
   "cell_type": "code",
   "execution_count": 4,
   "id": "155a67bb",
   "metadata": {},
   "outputs": [
    {
     "data": {
      "text/plain": [
       "' this is s'"
      ]
     },
     "execution_count": 4,
     "metadata": {},
     "output_type": "execute_result"
    }
   ],
   "source": [
    "fo1.read(10)  #from current position till position 10"
   ]
  },
  {
   "cell_type": "code",
   "execution_count": 5,
   "id": "358a6d10",
   "metadata": {},
   "outputs": [
    {
     "data": {
      "text/plain": [
       "'nehal learning file handling in Python.\\nwhat is happening'"
      ]
     },
     "execution_count": 5,
     "metadata": {},
     "output_type": "execute_result"
    }
   ],
   "source": [
    "fo1.read()  #from current position till the end"
   ]
  },
  {
   "cell_type": "code",
   "execution_count": 6,
   "id": "6eaac7da",
   "metadata": {},
   "outputs": [
    {
     "data": {
      "text/plain": [
       "72"
      ]
     },
     "execution_count": 6,
     "metadata": {},
     "output_type": "execute_result"
    }
   ],
   "source": [
    "fo1.tell()   #tells the current position of the pointer"
   ]
  },
  {
   "cell_type": "code",
   "execution_count": 7,
   "id": "307e88da",
   "metadata": {},
   "outputs": [
    {
     "data": {
      "text/plain": [
       "2"
      ]
     },
     "execution_count": 7,
     "metadata": {},
     "output_type": "execute_result"
    }
   ],
   "source": [
    "fo1.seek(2)   #to bring file pointer to desired location"
   ]
  },
  {
   "cell_type": "code",
   "execution_count": 8,
   "id": "45b10c1d",
   "metadata": {},
   "outputs": [
    {
     "data": {
      "text/plain": [
       "2"
      ]
     },
     "execution_count": 8,
     "metadata": {},
     "output_type": "execute_result"
    }
   ],
   "source": [
    "fo1.tell()"
   ]
  },
  {
   "cell_type": "code",
   "execution_count": 9,
   "id": "83c2f84e",
   "metadata": {},
   "outputs": [
    {
     "data": {
      "text/plain": [
       "'llo this i'"
      ]
     },
     "execution_count": 9,
     "metadata": {},
     "output_type": "execute_result"
    }
   ],
   "source": [
    "fo1.read(10)"
   ]
  },
  {
   "cell_type": "code",
   "execution_count": 10,
   "id": "d1d45620",
   "metadata": {},
   "outputs": [],
   "source": [
    "fo1.close()"
   ]
  },
  {
   "cell_type": "code",
   "execution_count": 11,
   "id": "71e37ff4",
   "metadata": {},
   "outputs": [
    {
     "data": {
      "text/plain": [
       "True"
      ]
     },
     "execution_count": 11,
     "metadata": {},
     "output_type": "execute_result"
    }
   ],
   "source": [
    "fo1.closed"
   ]
  },
  {
   "cell_type": "code",
   "execution_count": 13,
   "id": "f75d71f8",
   "metadata": {},
   "outputs": [],
   "source": [
    "fo1= open('textfile.txt', 'r')"
   ]
  },
  {
   "cell_type": "code",
   "execution_count": 14,
   "id": "570b3659",
   "metadata": {},
   "outputs": [
    {
     "data": {
      "text/plain": [
       "['Hello this is snehal learning file handling in Python.\\n',\n",
       " 'what is happening']"
      ]
     },
     "execution_count": 14,
     "metadata": {},
     "output_type": "execute_result"
    }
   ],
   "source": [
    "fo1.readlines()"
   ]
  },
  {
   "cell_type": "code",
   "execution_count": 15,
   "id": "caddceef",
   "metadata": {},
   "outputs": [],
   "source": [
    "frp= open('textfile.txt', 'r+')"
   ]
  },
  {
   "cell_type": "code",
   "execution_count": 16,
   "id": "a6bbdc79",
   "metadata": {},
   "outputs": [
    {
     "data": {
      "text/plain": [
       "7"
      ]
     },
     "execution_count": 16,
     "metadata": {},
     "output_type": "execute_result"
    }
   ],
   "source": [
    "frp.write('\\nI see.')  #output is the no. of characters written.\n",
    "#overwrites on existing data based on location of file pointer."
   ]
  },
  {
   "cell_type": "code",
   "execution_count": 17,
   "id": "cd36ddd8",
   "metadata": {},
   "outputs": [],
   "source": [
    "frp.close()"
   ]
  },
  {
   "cell_type": "code",
   "execution_count": null,
   "id": "95ee2583",
   "metadata": {},
   "outputs": [],
   "source": [
    "#read- only reads\n",
    "#read and write- dependent on position of file pointer and overwrites \n",
    "#existing content or creates new file\n",
    "#append- always writes at the end of the file, creates new if doesn't exist\n"
   ]
  },
  {
   "cell_type": "code",
   "execution_count": null,
   "id": "20509480",
   "metadata": {},
   "outputs": [],
   "source": [
    "#os module <<---"
   ]
  },
  {
   "cell_type": "markdown",
   "id": "8f30148d",
   "metadata": {},
   "source": [
    "QUESTION\n",
    "Write a python program to generate 26 text files named A.txt, B.txt,...upto Z.txt. Save the multiplication table of the corresponding number in the corresponding number in the corresponding text file. \n",
    "For e.g. : Table of 1 in A.txt, Table of 2 in B.txt and so on..."
   ]
  },
  {
   "cell_type": "code",
   "execution_count": 1,
   "id": "9c62d4b1",
   "metadata": {},
   "outputs": [
    {
     "name": "stdout",
     "output_type": "stream",
     "text": [
      "Object `for` not found.\n"
     ]
    }
   ],
   "source": [
    "for i in range(65,91):\n",
    "    c=str(i)\n",
    "    A=open('.txt', 'w+')"
   ]
  },
  {
   "cell_type": "code",
   "execution_count": 11,
   "id": "0f966300",
   "metadata": {},
   "outputs": [
    {
     "data": {
      "text/plain": [
       "'C:\\\\Users\\\\HP\\\\0DS Learnbay'"
      ]
     },
     "execution_count": 11,
     "metadata": {},
     "output_type": "execute_result"
    }
   ],
   "source": [
    "import os \n",
    "os.getcwd()"
   ]
  },
  {
   "cell_type": "code",
   "execution_count": 15,
   "id": "21f3577a",
   "metadata": {},
   "outputs": [],
   "source": [
    "import string,os\n",
    "Table=1\n",
    "for a in string.ascii_uppercase:\n",
    "    #os.mkdir(a)\n",
    "    #print(os.getcwd())\n",
    "    file= open(a+ '/' + a + '.txt','w')\n",
    "    for i in range(1,11):\n",
    "        file.write(str(Table)+'x'+str(i)+'='+str(Table*i)+'\\n')\n",
    "    file.close()\n",
    "    Table += 1"
   ]
  },
  {
   "cell_type": "code",
   "execution_count": 17,
   "id": "f70cf045",
   "metadata": {},
   "outputs": [
    {
     "ename": "NameError",
     "evalue": "name 'somefile' is not defined",
     "output_type": "error",
     "traceback": [
      "\u001b[1;31m---------------------------------------------------------------------------\u001b[0m",
      "\u001b[1;31mNameError\u001b[0m                                 Traceback (most recent call last)",
      "Cell \u001b[1;32mIn[17], line 2\u001b[0m\n\u001b[0;32m      1\u001b[0m \u001b[38;5;28;01mfrom\u001b[39;00m \u001b[38;5;21;01mpathlib\u001b[39;00m \u001b[38;5;28;01mimport\u001b[39;00m Path\n\u001b[1;32m----> 2\u001b[0m \u001b[38;5;28mprint\u001b[39m(os\u001b[38;5;241m.\u001b[39mpath\u001b[38;5;241m.\u001b[39mdirname(somefile))\n",
      "\u001b[1;31mNameError\u001b[0m: name 'somefile' is not defined"
     ]
    }
   ],
   "source": [
    "from pathlib import Path\n",
    "print(os.path.dirname(somefile))"
   ]
  },
  {
   "cell_type": "code",
   "execution_count": null,
   "id": "1c494e27",
   "metadata": {},
   "outputs": [],
   "source": []
  },
  {
   "cell_type": "code",
   "execution_count": null,
   "id": "af4ac833",
   "metadata": {},
   "outputs": [],
   "source": []
  }
 ],
 "metadata": {
  "kernelspec": {
   "display_name": "Python 3 (ipykernel)",
   "language": "python",
   "name": "python3"
  },
  "language_info": {
   "codemirror_mode": {
    "name": "ipython",
    "version": 3
   },
   "file_extension": ".py",
   "mimetype": "text/x-python",
   "name": "python",
   "nbconvert_exporter": "python",
   "pygments_lexer": "ipython3",
   "version": "3.11.5"
  }
 },
 "nbformat": 4,
 "nbformat_minor": 5
}
